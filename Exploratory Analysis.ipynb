{
 "cells": [
  {
   "cell_type": "code",
   "execution_count": 1,
   "id": "250261b8",
   "metadata": {},
   "outputs": [
    {
     "name": "stdout",
     "output_type": "stream",
     "text": [
      "Python Version is: 3.9.7 (default, Sep 16 2021, 16:59:28) [MSC v.1916 64 bit (AMD64)]\n"
     ]
    }
   ],
   "source": [
    "import sys\n",
    "print(\"Python Version is: \" + sys.version)\n",
    "\n",
    "# at home i am using 3.9.7."
   ]
  },
  {
   "cell_type": "code",
   "execution_count": 2,
   "id": "d5de7c84",
   "metadata": {},
   "outputs": [],
   "source": [
    "import pandas as pd\n",
    "import numpy as np\n",
    "import matplotlib.pyplot as plt\n",
    "import seaborn as sns\n",
    "\n",
    "import statsmodels.api as sm\n",
    "\n",
    "#SNS Settings \n",
    "sns.set(color_codes = True)\n",
    "sns.set(style=\"whitegrid\")\n",
    "sns.set(rc={'figure.figsize':(7,4)})\n",
    "sns.set_palette(\"Set3\")\n",
    "\n",
    "# Get multiple outputs in the same cell\n",
    "#from IPython.core.interactiveshell import InteractiveShell\n",
    "#InteractiveShell.ast_node_interactivity = \"all\"\n",
    "\n",
    "# Ignore all warnings\n",
    "import warnings\n",
    "warnings.filterwarnings('ignore')\n",
    "warnings.filterwarnings(action='ignore', category=DeprecationWarning)\n",
    "pd.set_option('display.max_columns', None)\n",
    "pd.set_option('display.float_format', lambda x: '%.2f' % x) \n",
    "#pd.set_option('display.max_rows', None)\n"
   ]
  },
  {
   "cell_type": "code",
   "execution_count": 3,
   "id": "348c3609",
   "metadata": {},
   "outputs": [
    {
     "name": "stdout",
     "output_type": "stream",
     "text": [
      "Run time: 0.0 mins\n"
     ]
    }
   ],
   "source": [
    "import time\n",
    "time_begin = time.time()\n",
    "\n",
    "df = pd.read_csv(\"high_churn_list_model.csv\") # data = pd.read_csv(\"census.csv\")\n",
    "\n",
    "print(f'Run time: {round(((time.time()-time_begin)/60), 3)} mins')"
   ]
  },
  {
   "cell_type": "code",
   "execution_count": 5,
   "id": "23432a55",
   "metadata": {},
   "outputs": [
    {
     "data": {
      "text/html": [
       "<div>\n",
       "<style scoped>\n",
       "    .dataframe tbody tr th:only-of-type {\n",
       "        vertical-align: middle;\n",
       "    }\n",
       "\n",
       "    .dataframe tbody tr th {\n",
       "        vertical-align: top;\n",
       "    }\n",
       "\n",
       "    .dataframe thead th {\n",
       "        text-align: right;\n",
       "    }\n",
       "</style>\n",
       "<table border=\"1\" class=\"dataframe\">\n",
       "  <thead>\n",
       "    <tr style=\"text-align: right;\">\n",
       "      <th></th>\n",
       "      <th>CustomerID</th>\n",
       "      <th>Gender</th>\n",
       "      <th>Age</th>\n",
       "      <th>Married</th>\n",
       "      <th>NumberofDependents</th>\n",
       "      <th>City</th>\n",
       "      <th>ZipCode</th>\n",
       "      <th>Population</th>\n",
       "      <th>NumberofReferrals</th>\n",
       "      <th>TenureinMonths</th>\n",
       "      <th>Offer</th>\n",
       "      <th>PhoneService</th>\n",
       "      <th>AvgMonthlyLongDistanceCharges</th>\n",
       "      <th>MultipleLines</th>\n",
       "      <th>InternetService</th>\n",
       "      <th>InternetType</th>\n",
       "      <th>AvgMonthlyGBDownload</th>\n",
       "      <th>OnlineSecurity</th>\n",
       "      <th>OnlineBackup</th>\n",
       "      <th>DeviceProtectionPlan</th>\n",
       "      <th>PremiumTechSupport</th>\n",
       "      <th>StreamingTV</th>\n",
       "      <th>StreamingMovies</th>\n",
       "      <th>StreamingMusic</th>\n",
       "      <th>UnlimitedData</th>\n",
       "      <th>Contract</th>\n",
       "      <th>PaperlessBilling</th>\n",
       "      <th>PaymentMethod</th>\n",
       "      <th>MonthlyCharge</th>\n",
       "      <th>TotalCharges</th>\n",
       "      <th>TotalRefunds</th>\n",
       "      <th>TotalExtraDataCharges</th>\n",
       "      <th>TotalLongDistanceCharges</th>\n",
       "      <th>TotalRevenue</th>\n",
       "      <th>Churn</th>\n",
       "      <th>ChurnCategory</th>\n",
       "      <th>ChurnReason</th>\n",
       "      <th>predictions</th>\n",
       "      <th>pred_probabilities</th>\n",
       "    </tr>\n",
       "  </thead>\n",
       "  <tbody>\n",
       "    <tr>\n",
       "      <th>160</th>\n",
       "      <td>4140-MUHUG</td>\n",
       "      <td>0</td>\n",
       "      <td>73</td>\n",
       "      <td>0</td>\n",
       "      <td>0</td>\n",
       "      <td>Oak View</td>\n",
       "      <td>93022</td>\n",
       "      <td>6503</td>\n",
       "      <td>0</td>\n",
       "      <td>3</td>\n",
       "      <td>None</td>\n",
       "      <td>1</td>\n",
       "      <td>18.38</td>\n",
       "      <td>No</td>\n",
       "      <td>1</td>\n",
       "      <td>Fiber Optic</td>\n",
       "      <td>20.00</td>\n",
       "      <td>No</td>\n",
       "      <td>No</td>\n",
       "      <td>Yes</td>\n",
       "      <td>No</td>\n",
       "      <td>Yes</td>\n",
       "      <td>No</td>\n",
       "      <td>No</td>\n",
       "      <td>Yes</td>\n",
       "      <td>Month-to-Month</td>\n",
       "      <td>1</td>\n",
       "      <td>Bank Withdrawal</td>\n",
       "      <td>86.85</td>\n",
       "      <td>220.95</td>\n",
       "      <td>0.00</td>\n",
       "      <td>0</td>\n",
       "      <td>55.14</td>\n",
       "      <td>276.09</td>\n",
       "      <td>1</td>\n",
       "      <td>Attitude</td>\n",
       "      <td>Attitude of service provider</td>\n",
       "      <td>1</td>\n",
       "      <td>0.96</td>\n",
       "    </tr>\n",
       "    <tr>\n",
       "      <th>308</th>\n",
       "      <td>8387-MOJJT</td>\n",
       "      <td>0</td>\n",
       "      <td>53</td>\n",
       "      <td>1</td>\n",
       "      <td>0</td>\n",
       "      <td>Nubieber</td>\n",
       "      <td>96068</td>\n",
       "      <td>240</td>\n",
       "      <td>1</td>\n",
       "      <td>42</td>\n",
       "      <td>None</td>\n",
       "      <td>1</td>\n",
       "      <td>34.02</td>\n",
       "      <td>No</td>\n",
       "      <td>1</td>\n",
       "      <td>Fiber Optic</td>\n",
       "      <td>18.00</td>\n",
       "      <td>No</td>\n",
       "      <td>No</td>\n",
       "      <td>No</td>\n",
       "      <td>No</td>\n",
       "      <td>Yes</td>\n",
       "      <td>No</td>\n",
       "      <td>No</td>\n",
       "      <td>Yes</td>\n",
       "      <td>Month-to-Month</td>\n",
       "      <td>1</td>\n",
       "      <td>Credit Card</td>\n",
       "      <td>77.95</td>\n",
       "      <td>3384.00</td>\n",
       "      <td>0.00</td>\n",
       "      <td>0</td>\n",
       "      <td>1428.84</td>\n",
       "      <td>4812.84</td>\n",
       "      <td>1</td>\n",
       "      <td>Competitor</td>\n",
       "      <td>Competitor made better offer</td>\n",
       "      <td>1</td>\n",
       "      <td>0.83</td>\n",
       "    </tr>\n",
       "  </tbody>\n",
       "</table>\n",
       "</div>"
      ],
      "text/plain": [
       "     CustomerID  Gender  Age  Married  NumberofDependents      City  ZipCode  \\\n",
       "160  4140-MUHUG       0   73        0                   0  Oak View    93022   \n",
       "308  8387-MOJJT       0   53        1                   0  Nubieber    96068   \n",
       "\n",
       "     Population  NumberofReferrals  TenureinMonths Offer  PhoneService  \\\n",
       "160        6503                  0               3  None             1   \n",
       "308         240                  1              42  None             1   \n",
       "\n",
       "     AvgMonthlyLongDistanceCharges MultipleLines  InternetService  \\\n",
       "160                          18.38            No                1   \n",
       "308                          34.02            No                1   \n",
       "\n",
       "    InternetType  AvgMonthlyGBDownload OnlineSecurity OnlineBackup  \\\n",
       "160  Fiber Optic                 20.00             No           No   \n",
       "308  Fiber Optic                 18.00             No           No   \n",
       "\n",
       "    DeviceProtectionPlan PremiumTechSupport StreamingTV StreamingMovies  \\\n",
       "160                  Yes                 No         Yes              No   \n",
       "308                   No                 No         Yes              No   \n",
       "\n",
       "    StreamingMusic UnlimitedData        Contract  PaperlessBilling  \\\n",
       "160             No           Yes  Month-to-Month                 1   \n",
       "308             No           Yes  Month-to-Month                 1   \n",
       "\n",
       "       PaymentMethod  MonthlyCharge  TotalCharges  TotalRefunds  \\\n",
       "160  Bank Withdrawal          86.85        220.95          0.00   \n",
       "308      Credit Card          77.95       3384.00          0.00   \n",
       "\n",
       "     TotalExtraDataCharges  TotalLongDistanceCharges  TotalRevenue  Churn  \\\n",
       "160                      0                     55.14        276.09      1   \n",
       "308                      0                   1428.84       4812.84      1   \n",
       "\n",
       "    ChurnCategory                   ChurnReason  predictions  \\\n",
       "160      Attitude  Attitude of service provider            1   \n",
       "308    Competitor  Competitor made better offer            1   \n",
       "\n",
       "     pred_probabilities  \n",
       "160                0.96  \n",
       "308                0.83  "
      ]
     },
     "execution_count": 5,
     "metadata": {},
     "output_type": "execute_result"
    }
   ],
   "source": [
    "df.sample(2)"
   ]
  },
  {
   "cell_type": "code",
   "execution_count": 6,
   "id": "a553b788",
   "metadata": {},
   "outputs": [],
   "source": [
    "# df.describe().transpose()[:-3] # Removing the last three as are \"churn predicitons and probabilities \""
   ]
  },
  {
   "cell_type": "code",
   "execution_count": 7,
   "id": "ccba5526",
   "metadata": {},
   "outputs": [
    {
     "data": {
      "text/html": [
       "<div>\n",
       "<style scoped>\n",
       "    .dataframe tbody tr th:only-of-type {\n",
       "        vertical-align: middle;\n",
       "    }\n",
       "\n",
       "    .dataframe tbody tr th {\n",
       "        vertical-align: top;\n",
       "    }\n",
       "\n",
       "    .dataframe thead th {\n",
       "        text-align: right;\n",
       "    }\n",
       "</style>\n",
       "<table border=\"1\" class=\"dataframe\">\n",
       "  <thead>\n",
       "    <tr style=\"text-align: right;\">\n",
       "      <th></th>\n",
       "      <th>count</th>\n",
       "      <th>unique</th>\n",
       "      <th>top</th>\n",
       "      <th>freq</th>\n",
       "    </tr>\n",
       "  </thead>\n",
       "  <tbody>\n",
       "    <tr>\n",
       "      <th>City</th>\n",
       "      <td>2095</td>\n",
       "      <td>876</td>\n",
       "      <td>Los Angeles</td>\n",
       "      <td>93</td>\n",
       "    </tr>\n",
       "    <tr>\n",
       "      <th>Offer</th>\n",
       "      <td>2095</td>\n",
       "      <td>6</td>\n",
       "      <td>None</td>\n",
       "      <td>1152</td>\n",
       "    </tr>\n",
       "    <tr>\n",
       "      <th>MultipleLines</th>\n",
       "      <td>2095</td>\n",
       "      <td>3</td>\n",
       "      <td>No</td>\n",
       "      <td>1005</td>\n",
       "    </tr>\n",
       "    <tr>\n",
       "      <th>InternetType</th>\n",
       "      <td>2095</td>\n",
       "      <td>4</td>\n",
       "      <td>Fiber Optic</td>\n",
       "      <td>933</td>\n",
       "    </tr>\n",
       "    <tr>\n",
       "      <th>OnlineSecurity</th>\n",
       "      <td>2095</td>\n",
       "      <td>3</td>\n",
       "      <td>No</td>\n",
       "      <td>1065</td>\n",
       "    </tr>\n",
       "    <tr>\n",
       "      <th>OnlineBackup</th>\n",
       "      <td>2095</td>\n",
       "      <td>3</td>\n",
       "      <td>No</td>\n",
       "      <td>920</td>\n",
       "    </tr>\n",
       "    <tr>\n",
       "      <th>DeviceProtectionPlan</th>\n",
       "      <td>2095</td>\n",
       "      <td>3</td>\n",
       "      <td>No</td>\n",
       "      <td>956</td>\n",
       "    </tr>\n",
       "    <tr>\n",
       "      <th>PremiumTechSupport</th>\n",
       "      <td>2095</td>\n",
       "      <td>3</td>\n",
       "      <td>No</td>\n",
       "      <td>1064</td>\n",
       "    </tr>\n",
       "    <tr>\n",
       "      <th>StreamingTV</th>\n",
       "      <td>2095</td>\n",
       "      <td>3</td>\n",
       "      <td>No</td>\n",
       "      <td>865</td>\n",
       "    </tr>\n",
       "    <tr>\n",
       "      <th>StreamingMovies</th>\n",
       "      <td>2095</td>\n",
       "      <td>3</td>\n",
       "      <td>No</td>\n",
       "      <td>842</td>\n",
       "    </tr>\n",
       "    <tr>\n",
       "      <th>StreamingMusic</th>\n",
       "      <td>2095</td>\n",
       "      <td>3</td>\n",
       "      <td>No</td>\n",
       "      <td>929</td>\n",
       "    </tr>\n",
       "    <tr>\n",
       "      <th>UnlimitedData</th>\n",
       "      <td>2095</td>\n",
       "      <td>3</td>\n",
       "      <td>Yes</td>\n",
       "      <td>1406</td>\n",
       "    </tr>\n",
       "    <tr>\n",
       "      <th>Contract</th>\n",
       "      <td>2095</td>\n",
       "      <td>3</td>\n",
       "      <td>Month-to-Month</td>\n",
       "      <td>1096</td>\n",
       "    </tr>\n",
       "    <tr>\n",
       "      <th>PaymentMethod</th>\n",
       "      <td>2095</td>\n",
       "      <td>3</td>\n",
       "      <td>Bank Withdrawal</td>\n",
       "      <td>1171</td>\n",
       "    </tr>\n",
       "    <tr>\n",
       "      <th>ChurnCategory</th>\n",
       "      <td>2095</td>\n",
       "      <td>6</td>\n",
       "      <td>Unknown</td>\n",
       "      <td>1537</td>\n",
       "    </tr>\n",
       "    <tr>\n",
       "      <th>ChurnReason</th>\n",
       "      <td>2095</td>\n",
       "      <td>21</td>\n",
       "      <td>Unknown</td>\n",
       "      <td>1537</td>\n",
       "    </tr>\n",
       "  </tbody>\n",
       "</table>\n",
       "</div>"
      ],
      "text/plain": [
       "                     count unique              top  freq\n",
       "City                  2095    876      Los Angeles    93\n",
       "Offer                 2095      6             None  1152\n",
       "MultipleLines         2095      3               No  1005\n",
       "InternetType          2095      4      Fiber Optic   933\n",
       "OnlineSecurity        2095      3               No  1065\n",
       "OnlineBackup          2095      3               No   920\n",
       "DeviceProtectionPlan  2095      3               No   956\n",
       "PremiumTechSupport    2095      3               No  1064\n",
       "StreamingTV           2095      3               No   865\n",
       "StreamingMovies       2095      3               No   842\n",
       "StreamingMusic        2095      3               No   929\n",
       "UnlimitedData         2095      3              Yes  1406\n",
       "Contract              2095      3   Month-to-Month  1096\n",
       "PaymentMethod         2095      3  Bank Withdrawal  1171\n",
       "ChurnCategory         2095      6          Unknown  1537\n",
       "ChurnReason           2095     21          Unknown  1537"
      ]
     },
     "execution_count": 7,
     "metadata": {},
     "output_type": "execute_result"
    }
   ],
   "source": [
    "df.describe(include = ['O']).transpose()[1:] \n",
    "#removes CustomerID from the results\n",
    "# O = Object"
   ]
  },
  {
   "cell_type": "code",
   "execution_count": 8,
   "id": "28a1ee11",
   "metadata": {},
   "outputs": [
    {
     "data": {
      "text/html": [
       "<div>\n",
       "<style scoped>\n",
       "    .dataframe tbody tr th:only-of-type {\n",
       "        vertical-align: middle;\n",
       "    }\n",
       "\n",
       "    .dataframe tbody tr th {\n",
       "        vertical-align: top;\n",
       "    }\n",
       "\n",
       "    .dataframe thead th {\n",
       "        text-align: right;\n",
       "    }\n",
       "</style>\n",
       "<table border=\"1\" class=\"dataframe\">\n",
       "  <thead>\n",
       "    <tr style=\"text-align: right;\">\n",
       "      <th></th>\n",
       "      <th>count</th>\n",
       "      <th>mean</th>\n",
       "      <th>std</th>\n",
       "      <th>min</th>\n",
       "      <th>25%</th>\n",
       "      <th>50%</th>\n",
       "      <th>75%</th>\n",
       "      <th>max</th>\n",
       "    </tr>\n",
       "  </thead>\n",
       "  <tbody>\n",
       "    <tr>\n",
       "      <th>Gender</th>\n",
       "      <td>2095.00</td>\n",
       "      <td>0.50</td>\n",
       "      <td>0.50</td>\n",
       "      <td>0.00</td>\n",
       "      <td>0.00</td>\n",
       "      <td>1.00</td>\n",
       "      <td>1.00</td>\n",
       "      <td>1.00</td>\n",
       "    </tr>\n",
       "    <tr>\n",
       "      <th>Age</th>\n",
       "      <td>2095.00</td>\n",
       "      <td>46.68</td>\n",
       "      <td>16.80</td>\n",
       "      <td>19.00</td>\n",
       "      <td>32.00</td>\n",
       "      <td>46.00</td>\n",
       "      <td>60.00</td>\n",
       "      <td>80.00</td>\n",
       "    </tr>\n",
       "    <tr>\n",
       "      <th>Married</th>\n",
       "      <td>2095.00</td>\n",
       "      <td>0.48</td>\n",
       "      <td>0.50</td>\n",
       "      <td>0.00</td>\n",
       "      <td>0.00</td>\n",
       "      <td>0.00</td>\n",
       "      <td>1.00</td>\n",
       "      <td>1.00</td>\n",
       "    </tr>\n",
       "    <tr>\n",
       "      <th>NumberofDependents</th>\n",
       "      <td>2095.00</td>\n",
       "      <td>0.46</td>\n",
       "      <td>0.98</td>\n",
       "      <td>0.00</td>\n",
       "      <td>0.00</td>\n",
       "      <td>0.00</td>\n",
       "      <td>0.00</td>\n",
       "      <td>8.00</td>\n",
       "    </tr>\n",
       "    <tr>\n",
       "      <th>ZipCode</th>\n",
       "      <td>2095.00</td>\n",
       "      <td>93521.26</td>\n",
       "      <td>1860.72</td>\n",
       "      <td>90001.00</td>\n",
       "      <td>92109.00</td>\n",
       "      <td>93550.00</td>\n",
       "      <td>95359.00</td>\n",
       "      <td>96150.00</td>\n",
       "    </tr>\n",
       "    <tr>\n",
       "      <th>Population</th>\n",
       "      <td>2095.00</td>\n",
       "      <td>21501.67</td>\n",
       "      <td>20232.50</td>\n",
       "      <td>11.00</td>\n",
       "      <td>2347.50</td>\n",
       "      <td>16717.00</td>\n",
       "      <td>35109.00</td>\n",
       "      <td>82630.00</td>\n",
       "    </tr>\n",
       "    <tr>\n",
       "      <th>NumberofReferrals</th>\n",
       "      <td>2095.00</td>\n",
       "      <td>1.95</td>\n",
       "      <td>3.00</td>\n",
       "      <td>0.00</td>\n",
       "      <td>0.00</td>\n",
       "      <td>0.00</td>\n",
       "      <td>3.00</td>\n",
       "      <td>10.00</td>\n",
       "    </tr>\n",
       "    <tr>\n",
       "      <th>TenureinMonths</th>\n",
       "      <td>2095.00</td>\n",
       "      <td>31.95</td>\n",
       "      <td>24.33</td>\n",
       "      <td>1.00</td>\n",
       "      <td>8.00</td>\n",
       "      <td>28.00</td>\n",
       "      <td>55.00</td>\n",
       "      <td>72.00</td>\n",
       "    </tr>\n",
       "    <tr>\n",
       "      <th>PhoneService</th>\n",
       "      <td>2095.00</td>\n",
       "      <td>0.91</td>\n",
       "      <td>0.29</td>\n",
       "      <td>0.00</td>\n",
       "      <td>1.00</td>\n",
       "      <td>1.00</td>\n",
       "      <td>1.00</td>\n",
       "      <td>1.00</td>\n",
       "    </tr>\n",
       "    <tr>\n",
       "      <th>AvgMonthlyLongDistanceCharges</th>\n",
       "      <td>2095.00</td>\n",
       "      <td>22.78</td>\n",
       "      <td>15.45</td>\n",
       "      <td>0.00</td>\n",
       "      <td>9.27</td>\n",
       "      <td>22.30</td>\n",
       "      <td>36.36</td>\n",
       "      <td>49.99</td>\n",
       "    </tr>\n",
       "    <tr>\n",
       "      <th>InternetService</th>\n",
       "      <td>2095.00</td>\n",
       "      <td>0.79</td>\n",
       "      <td>0.41</td>\n",
       "      <td>0.00</td>\n",
       "      <td>1.00</td>\n",
       "      <td>1.00</td>\n",
       "      <td>1.00</td>\n",
       "      <td>1.00</td>\n",
       "    </tr>\n",
       "    <tr>\n",
       "      <th>AvgMonthlyGBDownload</th>\n",
       "      <td>2095.00</td>\n",
       "      <td>20.72</td>\n",
       "      <td>20.59</td>\n",
       "      <td>0.00</td>\n",
       "      <td>4.00</td>\n",
       "      <td>17.00</td>\n",
       "      <td>27.00</td>\n",
       "      <td>85.00</td>\n",
       "    </tr>\n",
       "    <tr>\n",
       "      <th>PaperlessBilling</th>\n",
       "      <td>2095.00</td>\n",
       "      <td>0.58</td>\n",
       "      <td>0.49</td>\n",
       "      <td>0.00</td>\n",
       "      <td>0.00</td>\n",
       "      <td>1.00</td>\n",
       "      <td>1.00</td>\n",
       "      <td>1.00</td>\n",
       "    </tr>\n",
       "    <tr>\n",
       "      <th>MonthlyCharge</th>\n",
       "      <td>2095.00</td>\n",
       "      <td>63.68</td>\n",
       "      <td>30.97</td>\n",
       "      <td>-10.00</td>\n",
       "      <td>33.52</td>\n",
       "      <td>70.35</td>\n",
       "      <td>89.50</td>\n",
       "      <td>118.65</td>\n",
       "    </tr>\n",
       "    <tr>\n",
       "      <th>TotalCharges</th>\n",
       "      <td>2095.00</td>\n",
       "      <td>2242.08</td>\n",
       "      <td>2223.44</td>\n",
       "      <td>18.80</td>\n",
       "      <td>406.27</td>\n",
       "      <td>1387.45</td>\n",
       "      <td>3704.20</td>\n",
       "      <td>8477.60</td>\n",
       "    </tr>\n",
       "    <tr>\n",
       "      <th>TotalRefunds</th>\n",
       "      <td>2095.00</td>\n",
       "      <td>1.82</td>\n",
       "      <td>7.54</td>\n",
       "      <td>0.00</td>\n",
       "      <td>0.00</td>\n",
       "      <td>0.00</td>\n",
       "      <td>0.00</td>\n",
       "      <td>49.79</td>\n",
       "    </tr>\n",
       "    <tr>\n",
       "      <th>TotalExtraDataCharges</th>\n",
       "      <td>2095.00</td>\n",
       "      <td>7.26</td>\n",
       "      <td>25.99</td>\n",
       "      <td>0.00</td>\n",
       "      <td>0.00</td>\n",
       "      <td>0.00</td>\n",
       "      <td>0.00</td>\n",
       "      <td>150.00</td>\n",
       "    </tr>\n",
       "    <tr>\n",
       "      <th>TotalLongDistanceCharges</th>\n",
       "      <td>2095.00</td>\n",
       "      <td>734.42</td>\n",
       "      <td>833.37</td>\n",
       "      <td>0.00</td>\n",
       "      <td>74.54</td>\n",
       "      <td>378.00</td>\n",
       "      <td>1187.26</td>\n",
       "      <td>3564.72</td>\n",
       "    </tr>\n",
       "    <tr>\n",
       "      <th>TotalRevenue</th>\n",
       "      <td>2095.00</td>\n",
       "      <td>2981.95</td>\n",
       "      <td>2813.69</td>\n",
       "      <td>21.36</td>\n",
       "      <td>589.41</td>\n",
       "      <td>2047.16</td>\n",
       "      <td>4733.30</td>\n",
       "      <td>11416.21</td>\n",
       "    </tr>\n",
       "  </tbody>\n",
       "</table>\n",
       "</div>"
      ],
      "text/plain": [
       "                                count     mean      std      min      25%  \\\n",
       "Gender                        2095.00     0.50     0.50     0.00     0.00   \n",
       "Age                           2095.00    46.68    16.80    19.00    32.00   \n",
       "Married                       2095.00     0.48     0.50     0.00     0.00   \n",
       "NumberofDependents            2095.00     0.46     0.98     0.00     0.00   \n",
       "ZipCode                       2095.00 93521.26  1860.72 90001.00 92109.00   \n",
       "Population                    2095.00 21501.67 20232.50    11.00  2347.50   \n",
       "NumberofReferrals             2095.00     1.95     3.00     0.00     0.00   \n",
       "TenureinMonths                2095.00    31.95    24.33     1.00     8.00   \n",
       "PhoneService                  2095.00     0.91     0.29     0.00     1.00   \n",
       "AvgMonthlyLongDistanceCharges 2095.00    22.78    15.45     0.00     9.27   \n",
       "InternetService               2095.00     0.79     0.41     0.00     1.00   \n",
       "AvgMonthlyGBDownload          2095.00    20.72    20.59     0.00     4.00   \n",
       "PaperlessBilling              2095.00     0.58     0.49     0.00     0.00   \n",
       "MonthlyCharge                 2095.00    63.68    30.97   -10.00    33.52   \n",
       "TotalCharges                  2095.00  2242.08  2223.44    18.80   406.27   \n",
       "TotalRefunds                  2095.00     1.82     7.54     0.00     0.00   \n",
       "TotalExtraDataCharges         2095.00     7.26    25.99     0.00     0.00   \n",
       "TotalLongDistanceCharges      2095.00   734.42   833.37     0.00    74.54   \n",
       "TotalRevenue                  2095.00  2981.95  2813.69    21.36   589.41   \n",
       "\n",
       "                                   50%      75%      max  \n",
       "Gender                            1.00     1.00     1.00  \n",
       "Age                              46.00    60.00    80.00  \n",
       "Married                           0.00     1.00     1.00  \n",
       "NumberofDependents                0.00     0.00     8.00  \n",
       "ZipCode                       93550.00 95359.00 96150.00  \n",
       "Population                    16717.00 35109.00 82630.00  \n",
       "NumberofReferrals                 0.00     3.00    10.00  \n",
       "TenureinMonths                   28.00    55.00    72.00  \n",
       "PhoneService                      1.00     1.00     1.00  \n",
       "AvgMonthlyLongDistanceCharges    22.30    36.36    49.99  \n",
       "InternetService                   1.00     1.00     1.00  \n",
       "AvgMonthlyGBDownload             17.00    27.00    85.00  \n",
       "PaperlessBilling                  1.00     1.00     1.00  \n",
       "MonthlyCharge                    70.35    89.50   118.65  \n",
       "TotalCharges                   1387.45  3704.20  8477.60  \n",
       "TotalRefunds                      0.00     0.00    49.79  \n",
       "TotalExtraDataCharges             0.00     0.00   150.00  \n",
       "TotalLongDistanceCharges        378.00  1187.26  3564.72  \n",
       "TotalRevenue                   2047.16  4733.30 11416.21  "
      ]
     },
     "execution_count": 8,
     "metadata": {},
     "output_type": "execute_result"
    }
   ],
   "source": [
    "df.describe(exclude = ['O']).transpose()[:-3]"
   ]
  },
  {
   "cell_type": "markdown",
   "id": "2b5f2f2b",
   "metadata": {},
   "source": [
    "### Determining how many \"churned\" "
   ]
  },
  {
   "cell_type": "code",
   "execution_count": 9,
   "id": "c2e0a6bb",
   "metadata": {},
   "outputs": [
    {
     "data": {
      "text/plain": [
       "0    1537\n",
       "1     558\n",
       "Name: Churn, dtype: int64"
      ]
     },
     "execution_count": 9,
     "metadata": {},
     "output_type": "execute_result"
    }
   ],
   "source": [
    "df['Churn'].value_counts()\n",
    "# 0 = did not exit"
   ]
  },
  {
   "cell_type": "markdown",
   "id": "3a08b914",
   "metadata": {},
   "source": [
    "### Comparing churned to various features"
   ]
  },
  {
   "cell_type": "code",
   "execution_count": 10,
   "id": "c1ebf7ce",
   "metadata": {
    "scrolled": true
   },
   "outputs": [
    {
     "data": {
      "text/html": [
       "<div>\n",
       "<style scoped>\n",
       "    .dataframe tbody tr th:only-of-type {\n",
       "        vertical-align: middle;\n",
       "    }\n",
       "\n",
       "    .dataframe tbody tr th {\n",
       "        vertical-align: top;\n",
       "    }\n",
       "\n",
       "    .dataframe thead th {\n",
       "        text-align: right;\n",
       "    }\n",
       "</style>\n",
       "<table border=\"1\" class=\"dataframe\">\n",
       "  <thead>\n",
       "    <tr style=\"text-align: right;\">\n",
       "      <th></th>\n",
       "      <th>Married</th>\n",
       "      <th>Churn</th>\n",
       "    </tr>\n",
       "  </thead>\n",
       "  <tbody>\n",
       "    <tr>\n",
       "      <th>0</th>\n",
       "      <td>0</td>\n",
       "      <td>0.33</td>\n",
       "    </tr>\n",
       "    <tr>\n",
       "      <th>1</th>\n",
       "      <td>1</td>\n",
       "      <td>0.20</td>\n",
       "    </tr>\n",
       "  </tbody>\n",
       "</table>\n",
       "</div>"
      ],
      "text/plain": [
       "   Married  Churn\n",
       "0        0   0.33\n",
       "1        1   0.20"
      ]
     },
     "execution_count": 10,
     "metadata": {},
     "output_type": "execute_result"
    }
   ],
   "source": [
    "df.groupby(['Married']).agg({'Churn': 'mean'}).reset_index().sort_values(by='Churn', ascending=False)\n",
    "# If you are not married, your chances of churning are on average 33%\n",
    "# If you are marrried, your chances of churning are on average 20% "
   ]
  },
  {
   "cell_type": "code",
   "execution_count": 11,
   "id": "28edee1e",
   "metadata": {},
   "outputs": [
    {
     "data": {
      "text/html": [
       "<div>\n",
       "<style scoped>\n",
       "    .dataframe tbody tr th:only-of-type {\n",
       "        vertical-align: middle;\n",
       "    }\n",
       "\n",
       "    .dataframe tbody tr th {\n",
       "        vertical-align: top;\n",
       "    }\n",
       "\n",
       "    .dataframe thead th {\n",
       "        text-align: right;\n",
       "    }\n",
       "</style>\n",
       "<table border=\"1\" class=\"dataframe\">\n",
       "  <thead>\n",
       "    <tr style=\"text-align: right;\">\n",
       "      <th></th>\n",
       "      <th>Gender</th>\n",
       "      <th>Churn</th>\n",
       "    </tr>\n",
       "  </thead>\n",
       "  <tbody>\n",
       "    <tr>\n",
       "      <th>0</th>\n",
       "      <td>0</td>\n",
       "      <td>0.27</td>\n",
       "    </tr>\n",
       "    <tr>\n",
       "      <th>1</th>\n",
       "      <td>1</td>\n",
       "      <td>0.26</td>\n",
       "    </tr>\n",
       "  </tbody>\n",
       "</table>\n",
       "</div>"
      ],
      "text/plain": [
       "   Gender  Churn\n",
       "0       0   0.27\n",
       "1       1   0.26"
      ]
     },
     "execution_count": 11,
     "metadata": {},
     "output_type": "execute_result"
    }
   ],
   "source": [
    "df.groupby(['Gender']).agg({'Churn': 'mean'}).reset_index().sort_values(by='Churn', ascending=False)\n",
    "# If you are a female (0), your chances of churning are on average 27%\n",
    "# If you are a male (1), your chances of churning are on average 26%"
   ]
  },
  {
   "cell_type": "code",
   "execution_count": 12,
   "id": "2e05408a",
   "metadata": {},
   "outputs": [
    {
     "data": {
      "text/html": [
       "<div>\n",
       "<style scoped>\n",
       "    .dataframe tbody tr th:only-of-type {\n",
       "        vertical-align: middle;\n",
       "    }\n",
       "\n",
       "    .dataframe tbody tr th {\n",
       "        vertical-align: top;\n",
       "    }\n",
       "\n",
       "    .dataframe thead th {\n",
       "        text-align: right;\n",
       "    }\n",
       "</style>\n",
       "<table border=\"1\" class=\"dataframe\">\n",
       "  <thead>\n",
       "    <tr style=\"text-align: right;\">\n",
       "      <th></th>\n",
       "      <th>Gender</th>\n",
       "      <th>Married</th>\n",
       "      <th>Churn</th>\n",
       "    </tr>\n",
       "  </thead>\n",
       "  <tbody>\n",
       "    <tr>\n",
       "      <th>0</th>\n",
       "      <td>0</td>\n",
       "      <td>0</td>\n",
       "      <td>0.35</td>\n",
       "    </tr>\n",
       "    <tr>\n",
       "      <th>2</th>\n",
       "      <td>1</td>\n",
       "      <td>0</td>\n",
       "      <td>0.31</td>\n",
       "    </tr>\n",
       "    <tr>\n",
       "      <th>3</th>\n",
       "      <td>1</td>\n",
       "      <td>1</td>\n",
       "      <td>0.20</td>\n",
       "    </tr>\n",
       "    <tr>\n",
       "      <th>1</th>\n",
       "      <td>0</td>\n",
       "      <td>1</td>\n",
       "      <td>0.19</td>\n",
       "    </tr>\n",
       "  </tbody>\n",
       "</table>\n",
       "</div>"
      ],
      "text/plain": [
       "   Gender  Married  Churn\n",
       "0       0        0   0.35\n",
       "2       1        0   0.31\n",
       "3       1        1   0.20\n",
       "1       0        1   0.19"
      ]
     },
     "execution_count": 12,
     "metadata": {},
     "output_type": "execute_result"
    }
   ],
   "source": [
    "df.groupby(['Gender','Married']).agg({'Churn': 'mean'}).reset_index().sort_values(by='Churn', ascending=False)\n",
    "# The highest churn grouping is a female who is not married (34%). \n",
    "# Next is a male who is not married (32%). "
   ]
  },
  {
   "cell_type": "code",
   "execution_count": 13,
   "id": "9cc678ae",
   "metadata": {},
   "outputs": [],
   "source": [
    "# histo_plots = pd.DataFrame(data =df, columns =  ['Total Revenue','Total Long Distance Charges'])"
   ]
  },
  {
   "cell_type": "code",
   "execution_count": 14,
   "id": "73c1442d",
   "metadata": {},
   "outputs": [
    {
     "data": {
      "image/png": "[encoded data removed]",
      "text/plain": [
       "<Figure size 432x432 with 4 Axes>"
      ]
     },
     "metadata": {},
     "output_type": "display_data"
    }
   ],
   "source": [
    "g = sns.FacetGrid(df, col = \"Married\", row = 'Gender')\n",
    "g = g.map(plt.hist, \"Age\")\n",
    "# 0 = Female, 1 = Male\n",
    "# 0 = Not married, 1 = married"
   ]
  },
  {
   "cell_type": "code",
   "execution_count": 15,
   "id": "2596a7af",
   "metadata": {
    "scrolled": false
   },
   "outputs": [
    {
     "name": "stdout",
     "output_type": "stream",
     "text": [
      "Black lines are means\n"
     ]
    },
    {
     "data": {
      "image/png": "[encoded data removed]",
      "text/plain": [
       "<Figure size 1008x288 with 3 Axes>"
      ]
     },
     "metadata": {},
     "output_type": "display_data"
    }
   ],
   "source": [
    "#cols = ['Experience', 'Mortgage']\n",
    "fig, [ax0, ax1, ax2] = plt.subplots(1,3, figsize = (14,4))\n",
    "\n",
    "ax0.hist(df['TotalRevenue'])\n",
    "ax0.set_xlabel('Total Revenue Distribution')\n",
    "ax0.axvline(df['TotalRevenue'].mean(), color = \"black\")\n",
    "\n",
    "ax1.hist(df.TotalCharges)\n",
    "ax1.set_xlabel('Total Charges Distribution')\n",
    "ax1.axvline(df[\"TotalCharges\"].mean(), color = \"black\");\n",
    "\n",
    "ax2.hist(df.TenureinMonths)\n",
    "ax2.set_xlabel('Tenure in Month distribution')\n",
    "ax2.axvline(df['TenureinMonths'].mean(), color = \"black\");\n",
    "\n",
    "print(\"Black lines are means\")"
   ]
  },
  {
   "cell_type": "code",
   "execution_count": 16,
   "id": "253dc5fb",
   "metadata": {},
   "outputs": [
    {
     "name": "stdout",
     "output_type": "stream",
     "text": [
      "Black lines are means\n"
     ]
    },
    {
     "data": {
      "image/png": "[encoded data removed]",
      "text/plain": [
       "<Figure size 1008x288 with 3 Axes>"
      ]
     },
     "metadata": {},
     "output_type": "display_data"
    }
   ],
   "source": [
    "fig, [ax0, ax1, ax2] = plt.subplots(1,3, figsize = (14,4))\n",
    "\n",
    "ax0.hist(df['Age'])\n",
    "ax0.set_xlabel('Age Distribution')\n",
    "ax0.axvline(df['Age'].mean(), color = \"black\")\n",
    "\n",
    "ax1.hist(df['TotalLongDistanceCharges'])\n",
    "ax1.set_xlabel('Total Long Distance Charges Distribution')\n",
    "ax1.axvline(df[\"TotalLongDistanceCharges\"].mean(), color = \"black\");\n",
    "\n",
    "ax2.hist(df['Population'])\n",
    "ax2.set_xlabel('Population Distribution')\n",
    "ax2.axvline(df['Population'].mean(), color = \"black\");\n",
    "\n",
    "print(\"Black lines are means\")"
   ]
  },
  {
   "cell_type": "code",
   "execution_count": 17,
   "id": "455281f1",
   "metadata": {},
   "outputs": [
    {
     "data": {
      "text/plain": [
       "<AxesSubplot:xlabel='count', ylabel='TotalExtraDataCharges'>"
      ]
     },
     "execution_count": 17,
     "metadata": {},
     "output_type": "execute_result"
    },
    {
     "data": {
      "image/png": "[encoded data removed]",
      "text/plain": [
       "<Figure size 504x288 with 1 Axes>"
      ]
     },
     "metadata": {},
     "output_type": "display_data"
    }
   ],
   "source": [
    "sns.countplot(y = df['TotalExtraDataCharges'])"
   ]
  },
  {
   "cell_type": "code",
   "execution_count": 18,
   "id": "fb264b2a",
   "metadata": {
    "scrolled": true
   },
   "outputs": [
    {
     "data": {
      "text/plain": [
       "<AxesSubplot:xlabel='TotalRefunds'>"
      ]
     },
     "execution_count": 18,
     "metadata": {},
     "output_type": "execute_result"
    },
    {
     "data": {
      "image/png": "[encoded data removed]",
      "text/plain": [
       "<Figure size 504x288 with 1 Axes>"
      ]
     },
     "metadata": {},
     "output_type": "display_data"
    }
   ],
   "source": [
    "sns.violinplot(x=df['TotalRefunds'])"
   ]
  },
  {
   "cell_type": "code",
   "execution_count": 19,
   "id": "d2d7b46f",
   "metadata": {},
   "outputs": [
    {
     "data": {
      "text/plain": [
       "<AxesSubplot:xlabel='MonthlyCharge'>"
      ]
     },
     "execution_count": 19,
     "metadata": {},
     "output_type": "execute_result"
    },
    {
     "data": {
      "image/png": "[encoded data removed]",
      "text/plain": [
       "<Figure size 504x288 with 1 Axes>"
      ]
     },
     "metadata": {},
     "output_type": "display_data"
    }
   ],
   "source": [
    "sns.boxplot(x=df['MonthlyCharge'])"
   ]
  },
  {
   "cell_type": "code",
   "execution_count": 20,
   "id": "68c8905e",
   "metadata": {},
   "outputs": [
    {
     "data": {
      "text/plain": [
       "<AxesSubplot:xlabel='PaymentMethod', ylabel='count'>"
      ]
     },
     "execution_count": 20,
     "metadata": {},
     "output_type": "execute_result"
    },
    {
     "data": {
      "image/png": "[encoded data removed]",
      "text/plain": [
       "<Figure size 504x288 with 1 Axes>"
      ]
     },
     "metadata": {},
     "output_type": "display_data"
    }
   ],
   "source": [
    "sns.countplot(df['PaymentMethod'])"
   ]
  },
  {
   "cell_type": "code",
   "execution_count": 21,
   "id": "63f5a74a",
   "metadata": {},
   "outputs": [
    {
     "data": {
      "text/plain": [
       "<AxesSubplot:xlabel='count', ylabel='ChurnCategory'>"
      ]
     },
     "execution_count": 21,
     "metadata": {},
     "output_type": "execute_result"
    },
    {
     "data": {
      "image/png": "[encoded data removed]",
      "text/plain": [
       "<Figure size 504x288 with 1 Axes>"
      ]
     },
     "metadata": {},
     "output_type": "display_data"
    }
   ],
   "source": [
    "sns.countplot(y=df['ChurnCategory'],order = df['ChurnCategory'].value_counts().index)"
   ]
  },
  {
   "cell_type": "code",
   "execution_count": 22,
   "id": "75069ef1",
   "metadata": {},
   "outputs": [
    {
     "data": {
      "text/plain": [
       "<AxesSubplot:xlabel='count', ylabel='ChurnReason'>"
      ]
     },
     "execution_count": 22,
     "metadata": {},
     "output_type": "execute_result"
    },
    {
     "data": {
      "image/png": "[encoded data removed]",
      "text/plain": [
       "<Figure size 720x720 with 1 Axes>"
      ]
     },
     "metadata": {},
     "output_type": "display_data"
    }
   ],
   "source": [
    "plt.figure(figsize=(10,10))\n",
    "sns.countplot(y=df['ChurnReason'],order = df['ChurnReason'].value_counts().index)"
   ]
  },
  {
   "cell_type": "code",
   "execution_count": 23,
   "id": "4578ae6e",
   "metadata": {},
   "outputs": [
    {
     "data": {
      "text/plain": [
       "<AxesSubplot:xlabel='PhoneService', ylabel='count'>"
      ]
     },
     "execution_count": 23,
     "metadata": {},
     "output_type": "execute_result"
    },
    {
     "data": {
      "image/png": "[encoded data removed]",
      "text/plain": [
       "<Figure size 504x288 with 1 Axes>"
      ]
     },
     "metadata": {},
     "output_type": "display_data"
    }
   ],
   "source": [
    "sns.countplot(df['PhoneService'])"
   ]
  },
  {
   "cell_type": "code",
   "execution_count": 24,
   "id": "8a343730",
   "metadata": {},
   "outputs": [
    {
     "data": {
      "text/plain": [
       "<AxesSubplot:xlabel='PaperlessBilling', ylabel='count'>"
      ]
     },
     "execution_count": 24,
     "metadata": {},
     "output_type": "execute_result"
    },
    {
     "data": {
      "image/png": "[encoded data removed]",
      "text/plain": [
       "<Figure size 504x288 with 1 Axes>"
      ]
     },
     "metadata": {},
     "output_type": "display_data"
    }
   ],
   "source": [
    "sns.countplot(df['PaperlessBilling'],hue=df['Churn'])"
   ]
  },
  {
   "cell_type": "code",
   "execution_count": 25,
   "id": "4a554ebe",
   "metadata": {},
   "outputs": [
    {
     "data": {
      "text/plain": [
       "<AxesSubplot:xlabel='Contract', ylabel='count'>"
      ]
     },
     "execution_count": 25,
     "metadata": {},
     "output_type": "execute_result"
    },
    {
     "data": {
      "image/png": "[encoded data removed]",
      "text/plain": [
       "<Figure size 504x288 with 1 Axes>"
      ]
     },
     "metadata": {},
     "output_type": "display_data"
    }
   ],
   "source": [
    "sns.countplot(df['Contract'],hue = df['Churn'],order = df['Contract'].value_counts().index)"
   ]
  },
  {
   "cell_type": "code",
   "execution_count": 26,
   "id": "f905e412",
   "metadata": {},
   "outputs": [
    {
     "data": {
      "text/plain": [
       "<AxesSubplot:xlabel='Offer', ylabel='count'>"
      ]
     },
     "execution_count": 26,
     "metadata": {},
     "output_type": "execute_result"
    },
    {
     "data": {
      "image/png": "[encoded data removed]",
      "text/plain": [
       "<Figure size 504x288 with 1 Axes>"
      ]
     },
     "metadata": {},
     "output_type": "display_data"
    }
   ],
   "source": [
    "sns.countplot(df['Offer'],hue = df['Churn'],order = df['Offer'].value_counts().index)"
   ]
  },
  {
   "cell_type": "code",
   "execution_count": 27,
   "id": "e3241e44",
   "metadata": {},
   "outputs": [
    {
     "data": {
      "text/plain": [
       "<AxesSubplot:xlabel='InternetType', ylabel='count'>"
      ]
     },
     "execution_count": 27,
     "metadata": {},
     "output_type": "execute_result"
    },
    {
     "data": {
      "image/png": "[encoded data removed]",
      "text/plain": [
       "<Figure size 504x288 with 1 Axes>"
      ]
     },
     "metadata": {},
     "output_type": "display_data"
    }
   ],
   "source": [
    "sns.countplot(df['InternetType'], order = df['InternetType'].value_counts().index)"
   ]
  },
  {
   "cell_type": "markdown",
   "id": "a288f85d",
   "metadata": {},
   "source": [
    "## Exploratory data analysis"
   ]
  },
  {
   "cell_type": "markdown",
   "id": "3e46ed7c",
   "metadata": {},
   "source": [
    "###  Is there some association between personal characteristics and those who churned?\n",
    "#### QUANTATIVE VARIABLES"
   ]
  },
  {
   "cell_type": "code",
   "execution_count": 28,
   "id": "ec220921",
   "metadata": {},
   "outputs": [],
   "source": [
    "quant_df1 = df[[ #nominal\n",
    " 'Churn',\n",
    " 'Age',\n",
    " 'NumberofDependents',\n",
    " 'Population',\n",
    " 'NumberofReferrals',\n",
    " 'TenureinMonths',\n",
    " 'AvgMonthlyLongDistanceCharges',\n",
    "'AvgMonthlyGBDownload',\n",
    " 'MonthlyCharge',\n",
    " 'TotalCharges',\n",
    " 'TotalRefunds',\n",
    " 'TotalExtraDataCharges',\n",
    " 'TotalLongDistanceCharges',\n",
    " 'TotalRevenue'\n",
    "]].copy()\n",
    "\n",
    "# categorical columns\n",
    "\n",
    "quant_df2 = df[[ #binary\n",
    "#'Churn',\n",
    "'Gender',\n",
    "'Married',\n",
    "'PhoneService',\n",
    "'InternetService',\n",
    "'PaperlessBilling'\n",
    "]].copy()\n",
    "\n",
    "quant_df3 = df[[ #categories (one-hot-encode)\n",
    " #'Churn',\n",
    " 'Offer',\n",
    " #'MultipleLines',\n",
    " #'InternetType',\n",
    " #'OnlineSecurity',\n",
    " 'OnlineBackup',\n",
    " #'DeviceProtectionPlan',\n",
    " 'PremiumTechSupport',\n",
    " 'StreamingTV',\n",
    " 'StreamingMovies',\n",
    " 'StreamingMusic',\n",
    " #'UnlimitedData',\n",
    " 'Contract',\n",
    " #'PaymentMethod',\n",
    "]].copy()\n"
   ]
  },
  {
   "cell_type": "code",
   "execution_count": 29,
   "id": "646635ef",
   "metadata": {},
   "outputs": [
    {
     "data": {
      "text/html": [
       "<div>\n",
       "<style scoped>\n",
       "    .dataframe tbody tr th:only-of-type {\n",
       "        vertical-align: middle;\n",
       "    }\n",
       "\n",
       "    .dataframe tbody tr th {\n",
       "        vertical-align: top;\n",
       "    }\n",
       "\n",
       "    .dataframe thead th {\n",
       "        text-align: right;\n",
       "    }\n",
       "</style>\n",
       "<table border=\"1\" class=\"dataframe\">\n",
       "  <thead>\n",
       "    <tr style=\"text-align: right;\">\n",
       "      <th></th>\n",
       "      <th>Churn</th>\n",
       "      <th>Age</th>\n",
       "      <th>NumberofDependents</th>\n",
       "      <th>Population</th>\n",
       "      <th>NumberofReferrals</th>\n",
       "      <th>TenureinMonths</th>\n",
       "      <th>AvgMonthlyLongDistanceCharges</th>\n",
       "      <th>AvgMonthlyGBDownload</th>\n",
       "      <th>MonthlyCharge</th>\n",
       "      <th>TotalCharges</th>\n",
       "      <th>TotalRefunds</th>\n",
       "      <th>TotalExtraDataCharges</th>\n",
       "      <th>TotalLongDistanceCharges</th>\n",
       "      <th>TotalRevenue</th>\n",
       "    </tr>\n",
       "  </thead>\n",
       "  <tbody>\n",
       "    <tr>\n",
       "      <th>Churn</th>\n",
       "      <td>1.00</td>\n",
       "      <td>0.13</td>\n",
       "      <td>-0.21</td>\n",
       "      <td>0.08</td>\n",
       "      <td>-0.30</td>\n",
       "      <td>-0.37</td>\n",
       "      <td>0.02</td>\n",
       "      <td>0.02</td>\n",
       "      <td>0.16</td>\n",
       "      <td>-0.22</td>\n",
       "      <td>-0.02</td>\n",
       "      <td>0.02</td>\n",
       "      <td>-0.22</td>\n",
       "      <td>-0.24</td>\n",
       "    </tr>\n",
       "    <tr>\n",
       "      <th>Age</th>\n",
       "      <td>0.13</td>\n",
       "      <td>1.00</td>\n",
       "      <td>-0.09</td>\n",
       "      <td>-0.02</td>\n",
       "      <td>-0.04</td>\n",
       "      <td>-0.01</td>\n",
       "      <td>-0.00</td>\n",
       "      <td>-0.36</td>\n",
       "      <td>0.14</td>\n",
       "      <td>0.05</td>\n",
       "      <td>0.00</td>\n",
       "      <td>0.05</td>\n",
       "      <td>0.01</td>\n",
       "      <td>0.04</td>\n",
       "    </tr>\n",
       "    <tr>\n",
       "      <th>NumberofDependents</th>\n",
       "      <td>-0.21</td>\n",
       "      <td>-0.09</td>\n",
       "      <td>1.00</td>\n",
       "      <td>-0.02</td>\n",
       "      <td>0.28</td>\n",
       "      <td>0.14</td>\n",
       "      <td>-0.01</td>\n",
       "      <td>0.17</td>\n",
       "      <td>-0.10</td>\n",
       "      <td>0.04</td>\n",
       "      <td>-0.01</td>\n",
       "      <td>-0.01</td>\n",
       "      <td>0.09</td>\n",
       "      <td>0.06</td>\n",
       "    </tr>\n",
       "    <tr>\n",
       "      <th>Population</th>\n",
       "      <td>0.08</td>\n",
       "      <td>-0.02</td>\n",
       "      <td>-0.02</td>\n",
       "      <td>1.00</td>\n",
       "      <td>-0.04</td>\n",
       "      <td>-0.05</td>\n",
       "      <td>-0.04</td>\n",
       "      <td>0.01</td>\n",
       "      <td>-0.00</td>\n",
       "      <td>-0.04</td>\n",
       "      <td>0.05</td>\n",
       "      <td>0.01</td>\n",
       "      <td>-0.05</td>\n",
       "      <td>-0.05</td>\n",
       "    </tr>\n",
       "    <tr>\n",
       "      <th>NumberofReferrals</th>\n",
       "      <td>-0.30</td>\n",
       "      <td>-0.04</td>\n",
       "      <td>0.28</td>\n",
       "      <td>-0.04</td>\n",
       "      <td>1.00</td>\n",
       "      <td>0.35</td>\n",
       "      <td>0.02</td>\n",
       "      <td>0.07</td>\n",
       "      <td>0.06</td>\n",
       "      <td>0.29</td>\n",
       "      <td>0.03</td>\n",
       "      <td>-0.00</td>\n",
       "      <td>0.26</td>\n",
       "      <td>0.31</td>\n",
       "    </tr>\n",
       "    <tr>\n",
       "      <th>TenureinMonths</th>\n",
       "      <td>-0.37</td>\n",
       "      <td>-0.01</td>\n",
       "      <td>0.14</td>\n",
       "      <td>-0.05</td>\n",
       "      <td>0.35</td>\n",
       "      <td>1.00</td>\n",
       "      <td>0.02</td>\n",
       "      <td>0.06</td>\n",
       "      <td>0.22</td>\n",
       "      <td>0.83</td>\n",
       "      <td>0.00</td>\n",
       "      <td>0.08</td>\n",
       "      <td>0.68</td>\n",
       "      <td>0.85</td>\n",
       "    </tr>\n",
       "    <tr>\n",
       "      <th>AvgMonthlyLongDistanceCharges</th>\n",
       "      <td>0.02</td>\n",
       "      <td>-0.00</td>\n",
       "      <td>-0.01</td>\n",
       "      <td>-0.04</td>\n",
       "      <td>0.02</td>\n",
       "      <td>0.02</td>\n",
       "      <td>1.00</td>\n",
       "      <td>-0.03</td>\n",
       "      <td>0.11</td>\n",
       "      <td>0.07</td>\n",
       "      <td>-0.00</td>\n",
       "      <td>0.02</td>\n",
       "      <td>0.60</td>\n",
       "      <td>0.23</td>\n",
       "    </tr>\n",
       "    <tr>\n",
       "      <th>AvgMonthlyGBDownload</th>\n",
       "      <td>0.02</td>\n",
       "      <td>-0.36</td>\n",
       "      <td>0.17</td>\n",
       "      <td>0.01</td>\n",
       "      <td>0.07</td>\n",
       "      <td>0.06</td>\n",
       "      <td>-0.03</td>\n",
       "      <td>1.00</td>\n",
       "      <td>0.37</td>\n",
       "      <td>0.24</td>\n",
       "      <td>0.02</td>\n",
       "      <td>0.04</td>\n",
       "      <td>0.02</td>\n",
       "      <td>0.19</td>\n",
       "    </tr>\n",
       "    <tr>\n",
       "      <th>MonthlyCharge</th>\n",
       "      <td>0.16</td>\n",
       "      <td>0.14</td>\n",
       "      <td>-0.10</td>\n",
       "      <td>-0.00</td>\n",
       "      <td>0.06</td>\n",
       "      <td>0.22</td>\n",
       "      <td>0.11</td>\n",
       "      <td>0.37</td>\n",
       "      <td>1.00</td>\n",
       "      <td>0.60</td>\n",
       "      <td>0.03</td>\n",
       "      <td>0.14</td>\n",
       "      <td>0.21</td>\n",
       "      <td>0.54</td>\n",
       "    </tr>\n",
       "    <tr>\n",
       "      <th>TotalCharges</th>\n",
       "      <td>-0.22</td>\n",
       "      <td>0.05</td>\n",
       "      <td>0.04</td>\n",
       "      <td>-0.04</td>\n",
       "      <td>0.29</td>\n",
       "      <td>0.83</td>\n",
       "      <td>0.07</td>\n",
       "      <td>0.24</td>\n",
       "      <td>0.60</td>\n",
       "      <td>1.00</td>\n",
       "      <td>0.01</td>\n",
       "      <td>0.13</td>\n",
       "      <td>0.61</td>\n",
       "      <td>0.97</td>\n",
       "    </tr>\n",
       "    <tr>\n",
       "      <th>TotalRefunds</th>\n",
       "      <td>-0.02</td>\n",
       "      <td>0.00</td>\n",
       "      <td>-0.01</td>\n",
       "      <td>0.05</td>\n",
       "      <td>0.03</td>\n",
       "      <td>0.00</td>\n",
       "      <td>-0.00</td>\n",
       "      <td>0.02</td>\n",
       "      <td>0.03</td>\n",
       "      <td>0.01</td>\n",
       "      <td>1.00</td>\n",
       "      <td>0.02</td>\n",
       "      <td>0.01</td>\n",
       "      <td>0.00</td>\n",
       "    </tr>\n",
       "    <tr>\n",
       "      <th>TotalExtraDataCharges</th>\n",
       "      <td>0.02</td>\n",
       "      <td>0.05</td>\n",
       "      <td>-0.01</td>\n",
       "      <td>0.01</td>\n",
       "      <td>-0.00</td>\n",
       "      <td>0.08</td>\n",
       "      <td>0.02</td>\n",
       "      <td>0.04</td>\n",
       "      <td>0.14</td>\n",
       "      <td>0.13</td>\n",
       "      <td>0.02</td>\n",
       "      <td>1.00</td>\n",
       "      <td>0.08</td>\n",
       "      <td>0.13</td>\n",
       "    </tr>\n",
       "    <tr>\n",
       "      <th>TotalLongDistanceCharges</th>\n",
       "      <td>-0.22</td>\n",
       "      <td>0.01</td>\n",
       "      <td>0.09</td>\n",
       "      <td>-0.05</td>\n",
       "      <td>0.26</td>\n",
       "      <td>0.68</td>\n",
       "      <td>0.60</td>\n",
       "      <td>0.02</td>\n",
       "      <td>0.21</td>\n",
       "      <td>0.61</td>\n",
       "      <td>0.01</td>\n",
       "      <td>0.08</td>\n",
       "      <td>1.00</td>\n",
       "      <td>0.78</td>\n",
       "    </tr>\n",
       "    <tr>\n",
       "      <th>TotalRevenue</th>\n",
       "      <td>-0.24</td>\n",
       "      <td>0.04</td>\n",
       "      <td>0.06</td>\n",
       "      <td>-0.05</td>\n",
       "      <td>0.31</td>\n",
       "      <td>0.85</td>\n",
       "      <td>0.23</td>\n",
       "      <td>0.19</td>\n",
       "      <td>0.54</td>\n",
       "      <td>0.97</td>\n",
       "      <td>0.00</td>\n",
       "      <td>0.13</td>\n",
       "      <td>0.78</td>\n",
       "      <td>1.00</td>\n",
       "    </tr>\n",
       "  </tbody>\n",
       "</table>\n",
       "</div>"
      ],
      "text/plain": [
       "                               Churn   Age  NumberofDependents  Population  \\\n",
       "Churn                           1.00  0.13               -0.21        0.08   \n",
       "Age                             0.13  1.00               -0.09       -0.02   \n",
       "NumberofDependents             -0.21 -0.09                1.00       -0.02   \n",
       "Population                      0.08 -0.02               -0.02        1.00   \n",
       "NumberofReferrals              -0.30 -0.04                0.28       -0.04   \n",
       "TenureinMonths                 -0.37 -0.01                0.14       -0.05   \n",
       "AvgMonthlyLongDistanceCharges   0.02 -0.00               -0.01       -0.04   \n",
       "AvgMonthlyGBDownload            0.02 -0.36                0.17        0.01   \n",
       "MonthlyCharge                   0.16  0.14               -0.10       -0.00   \n",
       "TotalCharges                   -0.22  0.05                0.04       -0.04   \n",
       "TotalRefunds                   -0.02  0.00               -0.01        0.05   \n",
       "TotalExtraDataCharges           0.02  0.05               -0.01        0.01   \n",
       "TotalLongDistanceCharges       -0.22  0.01                0.09       -0.05   \n",
       "TotalRevenue                   -0.24  0.04                0.06       -0.05   \n",
       "\n",
       "                               NumberofReferrals  TenureinMonths  \\\n",
       "Churn                                      -0.30           -0.37   \n",
       "Age                                        -0.04           -0.01   \n",
       "NumberofDependents                          0.28            0.14   \n",
       "Population                                 -0.04           -0.05   \n",
       "NumberofReferrals                           1.00            0.35   \n",
       "TenureinMonths                              0.35            1.00   \n",
       "AvgMonthlyLongDistanceCharges               0.02            0.02   \n",
       "AvgMonthlyGBDownload                        0.07            0.06   \n",
       "MonthlyCharge                               0.06            0.22   \n",
       "TotalCharges                                0.29            0.83   \n",
       "TotalRefunds                                0.03            0.00   \n",
       "TotalExtraDataCharges                      -0.00            0.08   \n",
       "TotalLongDistanceCharges                    0.26            0.68   \n",
       "TotalRevenue                                0.31            0.85   \n",
       "\n",
       "                               AvgMonthlyLongDistanceCharges  \\\n",
       "Churn                                                   0.02   \n",
       "Age                                                    -0.00   \n",
       "NumberofDependents                                     -0.01   \n",
       "Population                                             -0.04   \n",
       "NumberofReferrals                                       0.02   \n",
       "TenureinMonths                                          0.02   \n",
       "AvgMonthlyLongDistanceCharges                           1.00   \n",
       "AvgMonthlyGBDownload                                   -0.03   \n",
       "MonthlyCharge                                           0.11   \n",
       "TotalCharges                                            0.07   \n",
       "TotalRefunds                                           -0.00   \n",
       "TotalExtraDataCharges                                   0.02   \n",
       "TotalLongDistanceCharges                                0.60   \n",
       "TotalRevenue                                            0.23   \n",
       "\n",
       "                               AvgMonthlyGBDownload  MonthlyCharge  \\\n",
       "Churn                                          0.02           0.16   \n",
       "Age                                           -0.36           0.14   \n",
       "NumberofDependents                             0.17          -0.10   \n",
       "Population                                     0.01          -0.00   \n",
       "NumberofReferrals                              0.07           0.06   \n",
       "TenureinMonths                                 0.06           0.22   \n",
       "AvgMonthlyLongDistanceCharges                 -0.03           0.11   \n",
       "AvgMonthlyGBDownload                           1.00           0.37   \n",
       "MonthlyCharge                                  0.37           1.00   \n",
       "TotalCharges                                   0.24           0.60   \n",
       "TotalRefunds                                   0.02           0.03   \n",
       "TotalExtraDataCharges                          0.04           0.14   \n",
       "TotalLongDistanceCharges                       0.02           0.21   \n",
       "TotalRevenue                                   0.19           0.54   \n",
       "\n",
       "                               TotalCharges  TotalRefunds  \\\n",
       "Churn                                 -0.22         -0.02   \n",
       "Age                                    0.05          0.00   \n",
       "NumberofDependents                     0.04         -0.01   \n",
       "Population                            -0.04          0.05   \n",
       "NumberofReferrals                      0.29          0.03   \n",
       "TenureinMonths                         0.83          0.00   \n",
       "AvgMonthlyLongDistanceCharges          0.07         -0.00   \n",
       "AvgMonthlyGBDownload                   0.24          0.02   \n",
       "MonthlyCharge                          0.60          0.03   \n",
       "TotalCharges                           1.00          0.01   \n",
       "TotalRefunds                           0.01          1.00   \n",
       "TotalExtraDataCharges                  0.13          0.02   \n",
       "TotalLongDistanceCharges               0.61          0.01   \n",
       "TotalRevenue                           0.97          0.00   \n",
       "\n",
       "                               TotalExtraDataCharges  \\\n",
       "Churn                                           0.02   \n",
       "Age                                             0.05   \n",
       "NumberofDependents                             -0.01   \n",
       "Population                                      0.01   \n",
       "NumberofReferrals                              -0.00   \n",
       "TenureinMonths                                  0.08   \n",
       "AvgMonthlyLongDistanceCharges                   0.02   \n",
       "AvgMonthlyGBDownload                            0.04   \n",
       "MonthlyCharge                                   0.14   \n",
       "TotalCharges                                    0.13   \n",
       "TotalRefunds                                    0.02   \n",
       "TotalExtraDataCharges                           1.00   \n",
       "TotalLongDistanceCharges                        0.08   \n",
       "TotalRevenue                                    0.13   \n",
       "\n",
       "                               TotalLongDistanceCharges  TotalRevenue  \n",
       "Churn                                             -0.22         -0.24  \n",
       "Age                                                0.01          0.04  \n",
       "NumberofDependents                                 0.09          0.06  \n",
       "Population                                        -0.05         -0.05  \n",
       "NumberofReferrals                                  0.26          0.31  \n",
       "TenureinMonths                                     0.68          0.85  \n",
       "AvgMonthlyLongDistanceCharges                      0.60          0.23  \n",
       "AvgMonthlyGBDownload                               0.02          0.19  \n",
       "MonthlyCharge                                      0.21          0.54  \n",
       "TotalCharges                                       0.61          0.97  \n",
       "TotalRefunds                                       0.01          0.00  \n",
       "TotalExtraDataCharges                              0.08          0.13  \n",
       "TotalLongDistanceCharges                           1.00          0.78  \n",
       "TotalRevenue                                       0.78          1.00  "
      ]
     },
     "execution_count": 29,
     "metadata": {},
     "output_type": "execute_result"
    }
   ],
   "source": [
    "quant_df1.corr()"
   ]
  },
  {
   "cell_type": "code",
   "execution_count": 30,
   "id": "3c3e2a6a",
   "metadata": {},
   "outputs": [
    {
     "data": {
      "image/png": "[encoded data removed]",
      "text/plain": [
       "<Figure size 720x720 with 2 Axes>"
      ]
     },
     "metadata": {},
     "output_type": "display_data"
    }
   ],
   "source": [
    "plt.figure(figsize=(10,10))\n",
    "cmap = sns.diverging_palette(250, 10, as_cmap=True)\n",
    "sns.heatmap(quant_df1.corr(), cmap = cmap, annot = True);\n"
   ]
  },
  {
   "cell_type": "code",
   "execution_count": 31,
   "id": "a3a920a3",
   "metadata": {},
   "outputs": [
    {
     "data": {
      "text/plain": [
       "Age                              0.13\n",
       "NumberofDependents              -0.21\n",
       "Population                       0.08\n",
       "NumberofReferrals               -0.30\n",
       "TenureinMonths                  -0.37\n",
       "AvgMonthlyLongDistanceCharges    0.02\n",
       "AvgMonthlyGBDownload             0.02\n",
       "MonthlyCharge                    0.16\n",
       "TotalCharges                    -0.22\n",
       "TotalRefunds                    -0.02\n",
       "TotalExtraDataCharges            0.02\n",
       "TotalLongDistanceCharges        -0.22\n",
       "TotalRevenue                    -0.24\n",
       "Name: Churn, dtype: float64"
      ]
     },
     "execution_count": 31,
     "metadata": {},
     "output_type": "execute_result"
    }
   ],
   "source": [
    "# get association coefficients for 'Personal Loan' and exclude it's data from series\n",
    "quant_df1.corr()['Churn'][1:]"
   ]
  },
  {
   "cell_type": "code",
   "execution_count": 32,
   "id": "9371ee39",
   "metadata": {},
   "outputs": [
    {
     "name": "stdout",
     "output_type": "stream",
     "text": [
      "Index(['Churn', 'Age', 'NumberofDependents', 'Population', 'NumberofReferrals',\n",
      "       'TenureinMonths', 'AvgMonthlyLongDistanceCharges',\n",
      "       'AvgMonthlyGBDownload', 'MonthlyCharge', 'TotalCharges', 'TotalRefunds',\n",
      "       'TotalExtraDataCharges', 'TotalLongDistanceCharges', 'TotalRevenue'],\n",
      "      dtype='object')\n"
     ]
    }
   ],
   "source": [
    "print(quant_df1.columns)"
   ]
  },
  {
   "cell_type": "code",
   "execution_count": 33,
   "id": "920169bb",
   "metadata": {},
   "outputs": [],
   "source": [
    "# quant_df1.corr()['Churn'][1:].plot.bar()\n",
    "# plt.axhline(y = 0.05);"
   ]
  },
  {
   "cell_type": "markdown",
   "id": "d5dddd14",
   "metadata": {},
   "source": [
    "Let's check our confidense about this statment with logistic regression model:"
   ]
  },
  {
   "cell_type": "code",
   "execution_count": null,
   "id": "54026ac0",
   "metadata": {},
   "outputs": [],
   "source": []
  },
  {
   "cell_type": "code",
   "execution_count": 34,
   "id": "cb338a50",
   "metadata": {},
   "outputs": [
    {
     "name": "stdout",
     "output_type": "stream",
     "text": [
      "Optimization terminated successfully.\n",
      "         Current function value: 0.419326\n",
      "         Iterations 7\n"
     ]
    },
    {
     "data": {
      "text/html": [
       "<table class=\"simpletable\">\n",
       "<caption>Logit Regression Results</caption>\n",
       "<tr>\n",
       "  <th>Dep. Variable:</th>         <td>Churn</td>      <th>  No. Observations:  </th>   <td>  2095</td>  \n",
       "</tr>\n",
       "<tr>\n",
       "  <th>Model:</th>                 <td>Logit</td>      <th>  Df Residuals:      </th>   <td>  2082</td>  \n",
       "</tr>\n",
       "<tr>\n",
       "  <th>Method:</th>                 <td>MLE</td>       <th>  Df Model:          </th>   <td>    12</td>  \n",
       "</tr>\n",
       "<tr>\n",
       "  <th>Date:</th>            <td>Mon, 05 Sep 2022</td> <th>  Pseudo R-squ.:     </th>   <td>0.2765</td>  \n",
       "</tr>\n",
       "<tr>\n",
       "  <th>Time:</th>                <td>13:57:25</td>     <th>  Log-Likelihood:    </th>  <td> -878.49</td> \n",
       "</tr>\n",
       "<tr>\n",
       "  <th>converged:</th>             <td>True</td>       <th>  LL-Null:           </th>  <td> -1214.2</td> \n",
       "</tr>\n",
       "<tr>\n",
       "  <th>Covariance Type:</th>     <td>nonrobust</td>    <th>  LLR p-value:       </th> <td>5.482e-136</td>\n",
       "</tr>\n",
       "</table>\n",
       "<table class=\"simpletable\">\n",
       "<tr>\n",
       "                <td></td>                   <th>coef</th>     <th>std err</th>      <th>z</th>      <th>P>|z|</th>  <th>[0.025</th>    <th>0.975]</th>  \n",
       "</tr>\n",
       "<tr>\n",
       "  <th>intercept</th>                     <td>   -1.5502</td> <td>    0.304</td> <td>   -5.092</td> <td> 0.000</td> <td>   -2.147</td> <td>   -0.954</td>\n",
       "</tr>\n",
       "<tr>\n",
       "  <th>Age</th>                           <td>    0.0152</td> <td>    0.004</td> <td>    3.779</td> <td> 0.000</td> <td>    0.007</td> <td>    0.023</td>\n",
       "</tr>\n",
       "<tr>\n",
       "  <th>NumberofDependents</th>            <td>   -0.4782</td> <td>    0.103</td> <td>   -4.657</td> <td> 0.000</td> <td>   -0.679</td> <td>   -0.277</td>\n",
       "</tr>\n",
       "<tr>\n",
       "  <th>Population</th>                    <td> 7.153e-06</td> <td> 2.87e-06</td> <td>    2.495</td> <td> 0.013</td> <td> 1.53e-06</td> <td> 1.28e-05</td>\n",
       "</tr>\n",
       "<tr>\n",
       "  <th>NumberofReferrals</th>             <td>   -0.2881</td> <td>    0.038</td> <td>   -7.628</td> <td> 0.000</td> <td>   -0.362</td> <td>   -0.214</td>\n",
       "</tr>\n",
       "<tr>\n",
       "  <th>TenureinMonths</th>                <td>   -0.0677</td> <td>    0.010</td> <td>   -6.472</td> <td> 0.000</td> <td>   -0.088</td> <td>   -0.047</td>\n",
       "</tr>\n",
       "<tr>\n",
       "  <th>AvgMonthlyLongDistanceCharges</th> <td>   -0.0113</td> <td>    0.006</td> <td>   -1.995</td> <td> 0.046</td> <td>   -0.022</td> <td>   -0.000</td>\n",
       "</tr>\n",
       "<tr>\n",
       "  <th>AvgMonthlyGBDownload</th>          <td>    0.0055</td> <td>    0.004</td> <td>    1.487</td> <td> 0.137</td> <td>   -0.002</td> <td>    0.013</td>\n",
       "</tr>\n",
       "<tr>\n",
       "  <th>MonthlyCharge</th>                 <td>    0.0218</td> <td>    0.003</td> <td>    6.772</td> <td> 0.000</td> <td>    0.015</td> <td>    0.028</td>\n",
       "</tr>\n",
       "<tr>\n",
       "  <th>TotalCharges</th>                  <td>   -0.0005</td> <td>    0.000</td> <td>   -1.876</td> <td> 0.061</td> <td>   -0.001</td> <td> 2.03e-05</td>\n",
       "</tr>\n",
       "<tr>\n",
       "  <th>TotalRefunds</th>                  <td>   -0.0061</td> <td>    0.008</td> <td>   -0.757</td> <td> 0.449</td> <td>   -0.022</td> <td>    0.010</td>\n",
       "</tr>\n",
       "<tr>\n",
       "  <th>TotalExtraDataCharges</th>         <td>    0.0006</td> <td>    0.002</td> <td>    0.280</td> <td> 0.779</td> <td>   -0.004</td> <td>    0.005</td>\n",
       "</tr>\n",
       "<tr>\n",
       "  <th>TotalRevenue</th>                  <td>    0.0006</td> <td>    0.000</td> <td>    2.849</td> <td> 0.004</td> <td>    0.000</td> <td>    0.001</td>\n",
       "</tr>\n",
       "</table>"
      ],
      "text/plain": [
       "<class 'statsmodels.iolib.summary.Summary'>\n",
       "\"\"\"\n",
       "                           Logit Regression Results                           \n",
       "==============================================================================\n",
       "Dep. Variable:                  Churn   No. Observations:                 2095\n",
       "Model:                          Logit   Df Residuals:                     2082\n",
       "Method:                           MLE   Df Model:                           12\n",
       "Date:                Mon, 05 Sep 2022   Pseudo R-squ.:                  0.2765\n",
       "Time:                        13:57:25   Log-Likelihood:                -878.49\n",
       "converged:                       True   LL-Null:                       -1214.2\n",
       "Covariance Type:            nonrobust   LLR p-value:                5.482e-136\n",
       "=================================================================================================\n",
       "                                    coef    std err          z      P>|z|      [0.025      0.975]\n",
       "-------------------------------------------------------------------------------------------------\n",
       "intercept                        -1.5502      0.304     -5.092      0.000      -2.147      -0.954\n",
       "Age                               0.0152      0.004      3.779      0.000       0.007       0.023\n",
       "NumberofDependents               -0.4782      0.103     -4.657      0.000      -0.679      -0.277\n",
       "Population                     7.153e-06   2.87e-06      2.495      0.013    1.53e-06    1.28e-05\n",
       "NumberofReferrals                -0.2881      0.038     -7.628      0.000      -0.362      -0.214\n",
       "TenureinMonths                   -0.0677      0.010     -6.472      0.000      -0.088      -0.047\n",
       "AvgMonthlyLongDistanceCharges    -0.0113      0.006     -1.995      0.046      -0.022      -0.000\n",
       "AvgMonthlyGBDownload              0.0055      0.004      1.487      0.137      -0.002       0.013\n",
       "MonthlyCharge                     0.0218      0.003      6.772      0.000       0.015       0.028\n",
       "TotalCharges                     -0.0005      0.000     -1.876      0.061      -0.001    2.03e-05\n",
       "TotalRefunds                     -0.0061      0.008     -0.757      0.449      -0.022       0.010\n",
       "TotalExtraDataCharges             0.0006      0.002      0.280      0.779      -0.004       0.005\n",
       "TotalRevenue                      0.0006      0.000      2.849      0.004       0.000       0.001\n",
       "=================================================================================================\n",
       "\"\"\""
      ]
     },
     "execution_count": 34,
     "metadata": {},
     "output_type": "execute_result"
    }
   ],
   "source": [
    "quant_df1['intercept'] = 1\n",
    "log_mod = sm.Logit(quant_df1['Churn'], quant_df1[['intercept','Age', 'NumberofDependents', 'Population', 'NumberofReferrals',\n",
    "       'TenureinMonths', 'AvgMonthlyLongDistanceCharges','AvgMonthlyGBDownload', 'MonthlyCharge', 'TotalCharges', 'TotalRefunds',\n",
    "       'TotalExtraDataCharges','TotalRevenue']]).fit()\n",
    "log_mod.summary()"
   ]
  },
  {
   "cell_type": "code",
   "execution_count": 35,
   "id": "6256530f",
   "metadata": {},
   "outputs": [
    {
     "data": {
      "image/png": "[encoded data removed]",
      "text/plain": [
       "<Figure size 504x288 with 1 Axes>"
      ]
     },
     "metadata": {},
     "output_type": "display_data"
    }
   ],
   "source": [
    "# p values\n",
    "log_mod.pvalues[:].plot.bar()\n",
    "plt.axhline(y = 0.05);"
   ]
  },
  {
   "cell_type": "code",
   "execution_count": 36,
   "id": "98e07d55",
   "metadata": {},
   "outputs": [
    {
     "data": {
      "image/png": "[encoded data removed]",
      "text/plain": [
       "<Figure size 504x288 with 1 Axes>"
      ]
     },
     "metadata": {},
     "output_type": "display_data"
    }
   ],
   "source": [
    "#coefficient\n",
    "log_mod.params[:].plot.bar()\n",
    "plt.axhline(y = 0.05);"
   ]
  },
  {
   "cell_type": "code",
   "execution_count": 37,
   "id": "2ada0beb",
   "metadata": {},
   "outputs": [
    {
     "data": {
      "text/plain": [
       "[('intercept', -1.5501574689605242),\n",
       " ('NumberofDependents', -0.47818705477171586),\n",
       " ('NumberofReferrals', -0.2880830533840691),\n",
       " ('TenureinMonths', -0.06765171718218509),\n",
       " ('AvgMonthlyLongDistanceCharges', -0.011259463742128214),\n",
       " ('Population', 7.153223010203911e-06),\n",
       " ('TotalRevenue', 0.0005601071073698684),\n",
       " ('Age', 0.015211057599617028),\n",
       " ('MonthlyCharge', 0.021755369254523947)]"
      ]
     },
     "execution_count": 37,
     "metadata": {},
     "output_type": "execute_result"
    }
   ],
   "source": [
    "quant_df_main = {}\n",
    "for i in log_mod.params[:].to_dict().keys():\n",
    "    if log_mod.pvalues[i] < 0.05:\n",
    "        quant_df_main[i] = log_mod.params[i]\n",
    "    else:\n",
    "        continue\n",
    "quant_df_main\n",
    "sorted(quant_df_main.items(), key=lambda x: x[1]) #sorting by highest to lowest value"
   ]
  },
  {
   "cell_type": "code",
   "execution_count": null,
   "id": "fb41d06a",
   "metadata": {},
   "outputs": [],
   "source": []
  },
  {
   "cell_type": "markdown",
   "id": "c7f90b7a",
   "metadata": {},
   "source": [
    "#### Compute the odds"
   ]
  },
  {
   "cell_type": "code",
   "execution_count": 38,
   "id": "4144531a",
   "metadata": {},
   "outputs": [
    {
     "data": {
      "text/plain": [
       "[('intercept', 0.2122145539902937),\n",
       " ('NumberofDependents', 0.619906229717932),\n",
       " ('NumberofReferrals', 0.7496993245873662),\n",
       " ('TenureinMonths', 0.934585917117431),\n",
       " ('AvgMonthlyLongDistanceCharges', 0.9888036867838459),\n",
       " ('Population', 1.0000071532485946),\n",
       " ('TotalRevenue', 1.000560263996646),\n",
       " ('Age', 1.0153273345533307),\n",
       " ('MonthlyCharge', 1.0219937427965724)]"
      ]
     },
     "execution_count": 38,
     "metadata": {},
     "output_type": "execute_result"
    }
   ],
   "source": [
    "quant_df_main_odds = {k : np.exp(v) for k, v in quant_df_main.items()}\n",
    "sorted(quant_df_main_odds.items(), key=lambda x: x[1]) #sorting by highest to lowest value"
   ]
  },
  {
   "cell_type": "markdown",
   "id": "c9861b17",
   "metadata": {},
   "source": [
    "### Analysis\n",
    "NumberofDependents, NumberofReferrals,TenureinMonths, AvgMonthlyLongDistanceCharges,TotalCharges are all negatively associated\n",
    "\n",
    "Population, TotalRevenue, Age, MonthlyCharge are positively associated"
   ]
  },
  {
   "cell_type": "markdown",
   "id": "0e4100a6",
   "metadata": {},
   "source": [
    "USE bank-looking-for-clients\n",
    "https://www.youtube.com/watch?v=z_BXANUOjJY"
   ]
  },
  {
   "cell_type": "code",
   "execution_count": 204,
   "id": "71a2aed8",
   "metadata": {},
   "outputs": [
    {
     "name": "stdout",
     "output_type": "stream",
     "text": [
      "Optimization terminated successfully.\n",
      "         Current function value: 0.475116\n",
      "         Iterations 6\n"
     ]
    },
    {
     "data": {
      "text/html": [
       "<table class=\"simpletable\">\n",
       "<caption>Logit Regression Results</caption>\n",
       "<tr>\n",
       "  <th>Dep. Variable:</th>         <td>Churn</td>      <th>  No. Observations:  </th>  <td>  2095</td>  \n",
       "</tr>\n",
       "<tr>\n",
       "  <th>Model:</th>                 <td>Logit</td>      <th>  Df Residuals:      </th>  <td>  2090</td>  \n",
       "</tr>\n",
       "<tr>\n",
       "  <th>Method:</th>                 <td>MLE</td>       <th>  Df Model:          </th>  <td>     4</td>  \n",
       "</tr>\n",
       "<tr>\n",
       "  <th>Date:</th>            <td>Mon, 05 Sep 2022</td> <th>  Pseudo R-squ.:     </th>  <td>0.1803</td>  \n",
       "</tr>\n",
       "<tr>\n",
       "  <th>Time:</th>                <td>15:13:20</td>     <th>  Log-Likelihood:    </th> <td> -995.37</td> \n",
       "</tr>\n",
       "<tr>\n",
       "  <th>converged:</th>             <td>True</td>       <th>  LL-Null:           </th> <td> -1214.2</td> \n",
       "</tr>\n",
       "<tr>\n",
       "  <th>Covariance Type:</th>     <td>nonrobust</td>    <th>  LLR p-value:       </th> <td>1.925e-93</td>\n",
       "</tr>\n",
       "</table>\n",
       "<table class=\"simpletable\">\n",
       "<tr>\n",
       "        <td></td>           <th>coef</th>     <th>std err</th>      <th>z</th>      <th>P>|z|</th>  <th>[0.025</th>    <th>0.975]</th>  \n",
       "</tr>\n",
       "<tr>\n",
       "  <th>intercept</th>     <td>   -2.9004</td> <td>    0.216</td> <td>  -13.451</td> <td> 0.000</td> <td>   -3.323</td> <td>   -2.478</td>\n",
       "</tr>\n",
       "<tr>\n",
       "  <th>Age</th>           <td>    0.0140</td> <td>    0.003</td> <td>    4.211</td> <td> 0.000</td> <td>    0.007</td> <td>    0.020</td>\n",
       "</tr>\n",
       "<tr>\n",
       "  <th>Population</th>    <td> 6.696e-06</td> <td> 2.69e-06</td> <td>    2.491</td> <td> 0.013</td> <td> 1.43e-06</td> <td>  1.2e-05</td>\n",
       "</tr>\n",
       "<tr>\n",
       "  <th>MonthlyCharge</th> <td>    0.0342</td> <td>    0.002</td> <td>   14.282</td> <td> 0.000</td> <td>    0.029</td> <td>    0.039</td>\n",
       "</tr>\n",
       "<tr>\n",
       "  <th>TotalRevenue</th>  <td>   -0.0005</td> <td> 2.88e-05</td> <td>  -16.004</td> <td> 0.000</td> <td>   -0.001</td> <td>   -0.000</td>\n",
       "</tr>\n",
       "</table>"
      ],
      "text/plain": [
       "<class 'statsmodels.iolib.summary.Summary'>\n",
       "\"\"\"\n",
       "                           Logit Regression Results                           \n",
       "==============================================================================\n",
       "Dep. Variable:                  Churn   No. Observations:                 2095\n",
       "Model:                          Logit   Df Residuals:                     2090\n",
       "Method:                           MLE   Df Model:                            4\n",
       "Date:                Mon, 05 Sep 2022   Pseudo R-squ.:                  0.1803\n",
       "Time:                        15:13:20   Log-Likelihood:                -995.37\n",
       "converged:                       True   LL-Null:                       -1214.2\n",
       "Covariance Type:            nonrobust   LLR p-value:                 1.925e-93\n",
       "=================================================================================\n",
       "                    coef    std err          z      P>|z|      [0.025      0.975]\n",
       "---------------------------------------------------------------------------------\n",
       "intercept        -2.9004      0.216    -13.451      0.000      -3.323      -2.478\n",
       "Age               0.0140      0.003      4.211      0.000       0.007       0.020\n",
       "Population     6.696e-06   2.69e-06      2.491      0.013    1.43e-06     1.2e-05\n",
       "MonthlyCharge     0.0342      0.002     14.282      0.000       0.029       0.039\n",
       "TotalRevenue     -0.0005   2.88e-05    -16.004      0.000      -0.001      -0.000\n",
       "=================================================================================\n",
       "\"\"\""
      ]
     },
     "execution_count": 204,
     "metadata": {},
     "output_type": "execute_result"
    }
   ],
   "source": [
    "quant_df1['intercept'] = 1\n",
    "log_mod2 = sm.Logit(quant_df1['Churn'], quant_df1[['intercept','Age','Population', 'MonthlyCharge','TotalRevenue']]).fit()\n",
    "log_mod2.summary()"
   ]
  },
  {
   "cell_type": "markdown",
   "id": "82597c3f",
   "metadata": {},
   "source": [
    "### Log Mod 2 (Binary)"
   ]
  },
  {
   "cell_type": "code",
   "execution_count": 40,
   "id": "25fa1c2a",
   "metadata": {},
   "outputs": [
    {
     "name": "stdout",
     "output_type": "stream",
     "text": [
      "<class 'pandas.core.frame.DataFrame'>\n",
      "RangeIndex: 2095 entries, 0 to 2094\n",
      "Data columns (total 5 columns):\n",
      " #   Column            Non-Null Count  Dtype\n",
      "---  ------            --------------  -----\n",
      " 0   Gender            2095 non-null   int64\n",
      " 1   Married           2095 non-null   int64\n",
      " 2   PhoneService      2095 non-null   int64\n",
      " 3   InternetService   2095 non-null   int64\n",
      " 4   PaperlessBilling  2095 non-null   int64\n",
      "dtypes: int64(5)\n",
      "memory usage: 82.0 KB\n"
     ]
    }
   ],
   "source": [
    "quant_df2.info()"
   ]
  },
  {
   "cell_type": "code",
   "execution_count": 41,
   "id": "6ef612f8",
   "metadata": {},
   "outputs": [
    {
     "name": "stdout",
     "output_type": "stream",
     "text": [
      "Optimization terminated successfully.\n",
      "         Current function value: 0.562800\n",
      "         Iterations 5\n"
     ]
    },
    {
     "data": {
      "text/html": [
       "<table class=\"simpletable\">\n",
       "<caption>Logit Regression Results</caption>\n",
       "<tr>\n",
       "  <th>Dep. Variable:</th>         <td>Churn</td>      <th>  No. Observations:  </th>  <td>  2095</td>  \n",
       "</tr>\n",
       "<tr>\n",
       "  <th>Model:</th>                 <td>Logit</td>      <th>  Df Residuals:      </th>  <td>  2090</td>  \n",
       "</tr>\n",
       "<tr>\n",
       "  <th>Method:</th>                 <td>MLE</td>       <th>  Df Model:          </th>  <td>     4</td>  \n",
       "</tr>\n",
       "<tr>\n",
       "  <th>Date:</th>            <td>Mon, 05 Sep 2022</td> <th>  Pseudo R-squ.:     </th>  <td>0.02897</td> \n",
       "</tr>\n",
       "<tr>\n",
       "  <th>Time:</th>                <td>13:57:26</td>     <th>  Log-Likelihood:    </th> <td> -1179.1</td> \n",
       "</tr>\n",
       "<tr>\n",
       "  <th>converged:</th>             <td>True</td>       <th>  LL-Null:           </th> <td> -1214.2</td> \n",
       "</tr>\n",
       "<tr>\n",
       "  <th>Covariance Type:</th>     <td>nonrobust</td>    <th>  LLR p-value:       </th> <td>1.902e-14</td>\n",
       "</tr>\n",
       "</table>\n",
       "<table class=\"simpletable\">\n",
       "<tr>\n",
       "          <td></td>            <th>coef</th>     <th>std err</th>      <th>z</th>      <th>P>|z|</th>  <th>[0.025</th>    <th>0.975]</th>  \n",
       "</tr>\n",
       "<tr>\n",
       "  <th>Gender</th>           <td>   -0.3192</td> <td>    0.098</td> <td>   -3.271</td> <td> 0.001</td> <td>   -0.510</td> <td>   -0.128</td>\n",
       "</tr>\n",
       "<tr>\n",
       "  <th>Married</th>          <td>   -0.9272</td> <td>    0.101</td> <td>   -9.148</td> <td> 0.000</td> <td>   -1.126</td> <td>   -0.729</td>\n",
       "</tr>\n",
       "<tr>\n",
       "  <th>PhoneService</th>     <td>   -0.9664</td> <td>    0.106</td> <td>   -9.117</td> <td> 0.000</td> <td>   -1.174</td> <td>   -0.759</td>\n",
       "</tr>\n",
       "<tr>\n",
       "  <th>InternetService</th>  <td>    0.2870</td> <td>    0.115</td> <td>    2.490</td> <td> 0.013</td> <td>    0.061</td> <td>    0.513</td>\n",
       "</tr>\n",
       "<tr>\n",
       "  <th>PaperlessBilling</th> <td>    0.4793</td> <td>    0.110</td> <td>    4.355</td> <td> 0.000</td> <td>    0.264</td> <td>    0.695</td>\n",
       "</tr>\n",
       "</table>"
      ],
      "text/plain": [
       "<class 'statsmodels.iolib.summary.Summary'>\n",
       "\"\"\"\n",
       "                           Logit Regression Results                           \n",
       "==============================================================================\n",
       "Dep. Variable:                  Churn   No. Observations:                 2095\n",
       "Model:                          Logit   Df Residuals:                     2090\n",
       "Method:                           MLE   Df Model:                            4\n",
       "Date:                Mon, 05 Sep 2022   Pseudo R-squ.:                 0.02897\n",
       "Time:                        13:57:26   Log-Likelihood:                -1179.1\n",
       "converged:                       True   LL-Null:                       -1214.2\n",
       "Covariance Type:            nonrobust   LLR p-value:                 1.902e-14\n",
       "====================================================================================\n",
       "                       coef    std err          z      P>|z|      [0.025      0.975]\n",
       "------------------------------------------------------------------------------------\n",
       "Gender              -0.3192      0.098     -3.271      0.001      -0.510      -0.128\n",
       "Married             -0.9272      0.101     -9.148      0.000      -1.126      -0.729\n",
       "PhoneService        -0.9664      0.106     -9.117      0.000      -1.174      -0.759\n",
       "InternetService      0.2870      0.115      2.490      0.013       0.061       0.513\n",
       "PaperlessBilling     0.4793      0.110      4.355      0.000       0.264       0.695\n",
       "====================================================================================\n",
       "\"\"\""
      ]
     },
     "execution_count": 41,
     "metadata": {},
     "output_type": "execute_result"
    }
   ],
   "source": [
    "quant_df1['intercept'] = 1\n",
    "log_mod2 = sm.Logit(quant_df1['Churn'], quant_df2).fit()\n",
    "log_mod2.summary()"
   ]
  },
  {
   "cell_type": "code",
   "execution_count": 69,
   "id": "1b96f8ec",
   "metadata": {},
   "outputs": [
    {
     "data": {
      "text/plain": [
       "[('PhoneService', -0.9664),\n",
       " ('Married', -0.9272),\n",
       " ('Gender', -0.3192),\n",
       " ('InternetService', 0.287),\n",
       " ('PaperlessBilling', 0.4793)]"
      ]
     },
     "execution_count": 69,
     "metadata": {},
     "output_type": "execute_result"
    }
   ],
   "source": [
    "quant_df_main2 = {}\n",
    "for i in log_mod2.params[:].to_dict().keys():\n",
    "    if log_mod2.pvalues[i] < 0.05:\n",
    "        quant_df_main2[i] = log_mod2.params[i].round(4)\n",
    "    else:\n",
    "        continue\n",
    "quant_df_main2\n",
    "sorted(quant_df_main2.items(), key=lambda x: x[1]) #sorting by highe"
   ]
  },
  {
   "cell_type": "code",
   "execution_count": 43,
   "id": "6067ab0b",
   "metadata": {},
   "outputs": [
    {
     "data": {
      "text/plain": [
       "[('PhoneService', 0.3804429650210986),\n",
       " ('Married', 0.39566166383828366),\n",
       " ('Gender', 0.7267420476741635),\n",
       " ('InternetService', 1.332411675250528),\n",
       " ('PaperlessBilling', 1.6149874482583757)]"
      ]
     },
     "execution_count": 43,
     "metadata": {},
     "output_type": "execute_result"
    }
   ],
   "source": [
    "quant_df_main_odds2 = {k : np.exp(v) for k, v in quant_df_main2.items()}\n",
    "sorted(quant_df_main_odds2.items(), key=lambda x: x[1]) #sorting by highest to lowest value"
   ]
  },
  {
   "cell_type": "markdown",
   "id": "5fc410d7",
   "metadata": {},
   "source": [
    "### Log Mod 3 (Category)"
   ]
  },
  {
   "cell_type": "code",
   "execution_count": 155,
   "id": "0e9c6929",
   "metadata": {},
   "outputs": [],
   "source": [
    "quant_df3 = df[[ #categories (one-hot-encode)\n",
    " 'Churn',\n",
    " 'Offer',\n",
    " #'MultipleLines',\n",
    " 'InternetType',\n",
    " #'OnlineSecurity',\n",
    " #'OnlineBackup',\n",
    " #'DeviceProtectionPlan',\n",
    " #'PremiumTechSupport',\n",
    " #'StreamingTV',\n",
    " #'StreamingMovies',\n",
    " #'StreamingMusic',\n",
    " #'UnlimitedData', #Seems to be the issue\n",
    " 'Contract',\n",
    " 'PaymentMethod',\n",
    "]].copy()"
   ]
  },
  {
   "cell_type": "code",
   "execution_count": 156,
   "id": "636b9495",
   "metadata": {},
   "outputs": [
    {
     "data": {
      "text/html": [
       "<div>\n",
       "<style scoped>\n",
       "    .dataframe tbody tr th:only-of-type {\n",
       "        vertical-align: middle;\n",
       "    }\n",
       "\n",
       "    .dataframe tbody tr th {\n",
       "        vertical-align: top;\n",
       "    }\n",
       "\n",
       "    .dataframe thead th {\n",
       "        text-align: right;\n",
       "    }\n",
       "</style>\n",
       "<table border=\"1\" class=\"dataframe\">\n",
       "  <thead>\n",
       "    <tr style=\"text-align: right;\">\n",
       "      <th></th>\n",
       "      <th>Churn</th>\n",
       "      <th>Offer</th>\n",
       "      <th>InternetType</th>\n",
       "      <th>Contract</th>\n",
       "      <th>PaymentMethod</th>\n",
       "    </tr>\n",
       "  </thead>\n",
       "  <tbody>\n",
       "    <tr>\n",
       "      <th>0</th>\n",
       "      <td>1</td>\n",
       "      <td>Offer E</td>\n",
       "      <td>Fiber Optic</td>\n",
       "      <td>Month-to-Month</td>\n",
       "      <td>Bank Withdrawal</td>\n",
       "    </tr>\n",
       "    <tr>\n",
       "      <th>1</th>\n",
       "      <td>1</td>\n",
       "      <td>None</td>\n",
       "      <td>Fiber Optic</td>\n",
       "      <td>Month-to-Month</td>\n",
       "      <td>Bank Withdrawal</td>\n",
       "    </tr>\n",
       "    <tr>\n",
       "      <th>2</th>\n",
       "      <td>1</td>\n",
       "      <td>None</td>\n",
       "      <td>Fiber Optic</td>\n",
       "      <td>Month-to-Month</td>\n",
       "      <td>Bank Withdrawal</td>\n",
       "    </tr>\n",
       "    <tr>\n",
       "      <th>3</th>\n",
       "      <td>1</td>\n",
       "      <td>None</td>\n",
       "      <td>DSL</td>\n",
       "      <td>Month-to-Month</td>\n",
       "      <td>Bank Withdrawal</td>\n",
       "    </tr>\n",
       "    <tr>\n",
       "      <th>4</th>\n",
       "      <td>1</td>\n",
       "      <td>Offer D</td>\n",
       "      <td>Fiber Optic</td>\n",
       "      <td>Month-to-Month</td>\n",
       "      <td>Credit Card</td>\n",
       "    </tr>\n",
       "  </tbody>\n",
       "</table>\n",
       "</div>"
      ],
      "text/plain": [
       "   Churn    Offer InternetType        Contract    PaymentMethod\n",
       "0      1  Offer E  Fiber Optic  Month-to-Month  Bank Withdrawal\n",
       "1      1     None  Fiber Optic  Month-to-Month  Bank Withdrawal\n",
       "2      1     None  Fiber Optic  Month-to-Month  Bank Withdrawal\n",
       "3      1     None          DSL  Month-to-Month  Bank Withdrawal\n",
       "4      1  Offer D  Fiber Optic  Month-to-Month      Credit Card"
      ]
     },
     "execution_count": 156,
     "metadata": {},
     "output_type": "execute_result"
    }
   ],
   "source": [
    "quant_df3.head()"
   ]
  },
  {
   "cell_type": "code",
   "execution_count": 157,
   "id": "1a61698c",
   "metadata": {},
   "outputs": [],
   "source": [
    "quant_df3 = pd.get_dummies(quant_df3)"
   ]
  },
  {
   "cell_type": "code",
   "execution_count": 158,
   "id": "2e24244c",
   "metadata": {},
   "outputs": [],
   "source": [
    "#for i in quant_df3:\n",
    "#    quant_df3[i] = quant_df3[i]*100\n",
    "    \n"
   ]
  },
  {
   "cell_type": "code",
   "execution_count": 159,
   "id": "88bb0935",
   "metadata": {},
   "outputs": [],
   "source": [
    "#quant_df3['Churn']=quant_df3['Churn']/100"
   ]
  },
  {
   "cell_type": "code",
   "execution_count": 160,
   "id": "e91fe1ba",
   "metadata": {},
   "outputs": [
    {
     "data": {
      "text/html": [
       "<div>\n",
       "<style scoped>\n",
       "    .dataframe tbody tr th:only-of-type {\n",
       "        vertical-align: middle;\n",
       "    }\n",
       "\n",
       "    .dataframe tbody tr th {\n",
       "        vertical-align: top;\n",
       "    }\n",
       "\n",
       "    .dataframe thead th {\n",
       "        text-align: right;\n",
       "    }\n",
       "</style>\n",
       "<table border=\"1\" class=\"dataframe\">\n",
       "  <thead>\n",
       "    <tr style=\"text-align: right;\">\n",
       "      <th></th>\n",
       "      <th>count</th>\n",
       "      <th>mean</th>\n",
       "      <th>std</th>\n",
       "      <th>min</th>\n",
       "      <th>25%</th>\n",
       "      <th>50%</th>\n",
       "      <th>75%</th>\n",
       "      <th>max</th>\n",
       "    </tr>\n",
       "  </thead>\n",
       "  <tbody>\n",
       "    <tr>\n",
       "      <th>Churn</th>\n",
       "      <td>2095.00</td>\n",
       "      <td>0.27</td>\n",
       "      <td>0.44</td>\n",
       "      <td>0.00</td>\n",
       "      <td>0.00</td>\n",
       "      <td>0.00</td>\n",
       "      <td>1.00</td>\n",
       "      <td>1.00</td>\n",
       "    </tr>\n",
       "    <tr>\n",
       "      <th>Offer_None</th>\n",
       "      <td>2095.00</td>\n",
       "      <td>0.55</td>\n",
       "      <td>0.50</td>\n",
       "      <td>0.00</td>\n",
       "      <td>0.00</td>\n",
       "      <td>1.00</td>\n",
       "      <td>1.00</td>\n",
       "      <td>1.00</td>\n",
       "    </tr>\n",
       "    <tr>\n",
       "      <th>Offer_Offer A</th>\n",
       "      <td>2095.00</td>\n",
       "      <td>0.07</td>\n",
       "      <td>0.25</td>\n",
       "      <td>0.00</td>\n",
       "      <td>0.00</td>\n",
       "      <td>0.00</td>\n",
       "      <td>0.00</td>\n",
       "      <td>1.00</td>\n",
       "    </tr>\n",
       "    <tr>\n",
       "      <th>Offer_Offer B</th>\n",
       "      <td>2095.00</td>\n",
       "      <td>0.12</td>\n",
       "      <td>0.32</td>\n",
       "      <td>0.00</td>\n",
       "      <td>0.00</td>\n",
       "      <td>0.00</td>\n",
       "      <td>0.00</td>\n",
       "      <td>1.00</td>\n",
       "    </tr>\n",
       "    <tr>\n",
       "      <th>Offer_Offer C</th>\n",
       "      <td>2095.00</td>\n",
       "      <td>0.06</td>\n",
       "      <td>0.23</td>\n",
       "      <td>0.00</td>\n",
       "      <td>0.00</td>\n",
       "      <td>0.00</td>\n",
       "      <td>0.00</td>\n",
       "      <td>1.00</td>\n",
       "    </tr>\n",
       "    <tr>\n",
       "      <th>Offer_Offer D</th>\n",
       "      <td>2095.00</td>\n",
       "      <td>0.09</td>\n",
       "      <td>0.28</td>\n",
       "      <td>0.00</td>\n",
       "      <td>0.00</td>\n",
       "      <td>0.00</td>\n",
       "      <td>0.00</td>\n",
       "      <td>1.00</td>\n",
       "    </tr>\n",
       "    <tr>\n",
       "      <th>Offer_Offer E</th>\n",
       "      <td>2095.00</td>\n",
       "      <td>0.12</td>\n",
       "      <td>0.32</td>\n",
       "      <td>0.00</td>\n",
       "      <td>0.00</td>\n",
       "      <td>0.00</td>\n",
       "      <td>0.00</td>\n",
       "      <td>1.00</td>\n",
       "    </tr>\n",
       "    <tr>\n",
       "      <th>InternetType_Cable</th>\n",
       "      <td>2095.00</td>\n",
       "      <td>0.12</td>\n",
       "      <td>0.32</td>\n",
       "      <td>0.00</td>\n",
       "      <td>0.00</td>\n",
       "      <td>0.00</td>\n",
       "      <td>0.00</td>\n",
       "      <td>1.00</td>\n",
       "    </tr>\n",
       "    <tr>\n",
       "      <th>InternetType_DSL</th>\n",
       "      <td>2095.00</td>\n",
       "      <td>0.22</td>\n",
       "      <td>0.42</td>\n",
       "      <td>0.00</td>\n",
       "      <td>0.00</td>\n",
       "      <td>0.00</td>\n",
       "      <td>0.00</td>\n",
       "      <td>1.00</td>\n",
       "    </tr>\n",
       "    <tr>\n",
       "      <th>InternetType_Fiber Optic</th>\n",
       "      <td>2095.00</td>\n",
       "      <td>0.45</td>\n",
       "      <td>0.50</td>\n",
       "      <td>0.00</td>\n",
       "      <td>0.00</td>\n",
       "      <td>0.00</td>\n",
       "      <td>1.00</td>\n",
       "      <td>1.00</td>\n",
       "    </tr>\n",
       "    <tr>\n",
       "      <th>InternetType_Unknown</th>\n",
       "      <td>2095.00</td>\n",
       "      <td>0.21</td>\n",
       "      <td>0.41</td>\n",
       "      <td>0.00</td>\n",
       "      <td>0.00</td>\n",
       "      <td>0.00</td>\n",
       "      <td>0.00</td>\n",
       "      <td>1.00</td>\n",
       "    </tr>\n",
       "    <tr>\n",
       "      <th>Contract_Month-to-Month</th>\n",
       "      <td>2095.00</td>\n",
       "      <td>0.52</td>\n",
       "      <td>0.50</td>\n",
       "      <td>0.00</td>\n",
       "      <td>0.00</td>\n",
       "      <td>1.00</td>\n",
       "      <td>1.00</td>\n",
       "      <td>1.00</td>\n",
       "    </tr>\n",
       "    <tr>\n",
       "      <th>Contract_One Year</th>\n",
       "      <td>2095.00</td>\n",
       "      <td>0.21</td>\n",
       "      <td>0.41</td>\n",
       "      <td>0.00</td>\n",
       "      <td>0.00</td>\n",
       "      <td>0.00</td>\n",
       "      <td>0.00</td>\n",
       "      <td>1.00</td>\n",
       "    </tr>\n",
       "    <tr>\n",
       "      <th>Contract_Two Year</th>\n",
       "      <td>2095.00</td>\n",
       "      <td>0.27</td>\n",
       "      <td>0.44</td>\n",
       "      <td>0.00</td>\n",
       "      <td>0.00</td>\n",
       "      <td>0.00</td>\n",
       "      <td>1.00</td>\n",
       "      <td>1.00</td>\n",
       "    </tr>\n",
       "    <tr>\n",
       "      <th>PaymentMethod_Bank Withdrawal</th>\n",
       "      <td>2095.00</td>\n",
       "      <td>0.56</td>\n",
       "      <td>0.50</td>\n",
       "      <td>0.00</td>\n",
       "      <td>0.00</td>\n",
       "      <td>1.00</td>\n",
       "      <td>1.00</td>\n",
       "      <td>1.00</td>\n",
       "    </tr>\n",
       "    <tr>\n",
       "      <th>PaymentMethod_Credit Card</th>\n",
       "      <td>2095.00</td>\n",
       "      <td>0.40</td>\n",
       "      <td>0.49</td>\n",
       "      <td>0.00</td>\n",
       "      <td>0.00</td>\n",
       "      <td>0.00</td>\n",
       "      <td>1.00</td>\n",
       "      <td>1.00</td>\n",
       "    </tr>\n",
       "    <tr>\n",
       "      <th>PaymentMethod_Mailed Check</th>\n",
       "      <td>2095.00</td>\n",
       "      <td>0.05</td>\n",
       "      <td>0.21</td>\n",
       "      <td>0.00</td>\n",
       "      <td>0.00</td>\n",
       "      <td>0.00</td>\n",
       "      <td>0.00</td>\n",
       "      <td>1.00</td>\n",
       "    </tr>\n",
       "  </tbody>\n",
       "</table>\n",
       "</div>"
      ],
      "text/plain": [
       "                                count  mean  std  min  25%  50%  75%  max\n",
       "Churn                         2095.00  0.27 0.44 0.00 0.00 0.00 1.00 1.00\n",
       "Offer_None                    2095.00  0.55 0.50 0.00 0.00 1.00 1.00 1.00\n",
       "Offer_Offer A                 2095.00  0.07 0.25 0.00 0.00 0.00 0.00 1.00\n",
       "Offer_Offer B                 2095.00  0.12 0.32 0.00 0.00 0.00 0.00 1.00\n",
       "Offer_Offer C                 2095.00  0.06 0.23 0.00 0.00 0.00 0.00 1.00\n",
       "Offer_Offer D                 2095.00  0.09 0.28 0.00 0.00 0.00 0.00 1.00\n",
       "Offer_Offer E                 2095.00  0.12 0.32 0.00 0.00 0.00 0.00 1.00\n",
       "InternetType_Cable            2095.00  0.12 0.32 0.00 0.00 0.00 0.00 1.00\n",
       "InternetType_DSL              2095.00  0.22 0.42 0.00 0.00 0.00 0.00 1.00\n",
       "InternetType_Fiber Optic      2095.00  0.45 0.50 0.00 0.00 0.00 1.00 1.00\n",
       "InternetType_Unknown          2095.00  0.21 0.41 0.00 0.00 0.00 0.00 1.00\n",
       "Contract_Month-to-Month       2095.00  0.52 0.50 0.00 0.00 1.00 1.00 1.00\n",
       "Contract_One Year             2095.00  0.21 0.41 0.00 0.00 0.00 0.00 1.00\n",
       "Contract_Two Year             2095.00  0.27 0.44 0.00 0.00 0.00 1.00 1.00\n",
       "PaymentMethod_Bank Withdrawal 2095.00  0.56 0.50 0.00 0.00 1.00 1.00 1.00\n",
       "PaymentMethod_Credit Card     2095.00  0.40 0.49 0.00 0.00 0.00 1.00 1.00\n",
       "PaymentMethod_Mailed Check    2095.00  0.05 0.21 0.00 0.00 0.00 0.00 1.00"
      ]
     },
     "execution_count": 160,
     "metadata": {},
     "output_type": "execute_result"
    }
   ],
   "source": [
    "quant_df3.describe().transpose()"
   ]
  },
  {
   "cell_type": "code",
   "execution_count": 161,
   "id": "3b2d3f05",
   "metadata": {},
   "outputs": [
    {
     "data": {
      "text/plain": [
       "(2095, 17)"
      ]
     },
     "execution_count": 161,
     "metadata": {},
     "output_type": "execute_result"
    }
   ],
   "source": [
    "quant_df3.shape"
   ]
  },
  {
   "cell_type": "code",
   "execution_count": 162,
   "id": "3df09009",
   "metadata": {},
   "outputs": [
    {
     "name": "stdout",
     "output_type": "stream",
     "text": [
      "Optimization terminated successfully.\n",
      "         Current function value: 0.542199\n",
      "         Iterations 7\n"
     ]
    },
    {
     "data": {
      "text/html": [
       "<table class=\"simpletable\">\n",
       "<caption>Logit Regression Results</caption>\n",
       "<tr>\n",
       "  <th>Dep. Variable:</th>         <td>Churn</td>      <th>  No. Observations:  </th>  <td>  2095</td>  \n",
       "</tr>\n",
       "<tr>\n",
       "  <th>Model:</th>                 <td>Logit</td>      <th>  Df Residuals:      </th>  <td>  2089</td>  \n",
       "</tr>\n",
       "<tr>\n",
       "  <th>Method:</th>                 <td>MLE</td>       <th>  Df Model:          </th>  <td>     5</td>  \n",
       "</tr>\n",
       "<tr>\n",
       "  <th>Date:</th>            <td>Mon, 05 Sep 2022</td> <th>  Pseudo R-squ.:     </th>  <td>0.06452</td> \n",
       "</tr>\n",
       "<tr>\n",
       "  <th>Time:</th>                <td>14:27:42</td>     <th>  Log-Likelihood:    </th> <td> -1135.9</td> \n",
       "</tr>\n",
       "<tr>\n",
       "  <th>converged:</th>             <td>True</td>       <th>  LL-Null:           </th> <td> -1214.2</td> \n",
       "</tr>\n",
       "<tr>\n",
       "  <th>Covariance Type:</th>     <td>nonrobust</td>    <th>  LLR p-value:       </th> <td>5.044e-32</td>\n",
       "</tr>\n",
       "</table>\n",
       "<table class=\"simpletable\">\n",
       "<tr>\n",
       "        <td></td>           <th>coef</th>     <th>std err</th>      <th>z</th>      <th>P>|z|</th>  <th>[0.025</th>    <th>0.975]</th>  \n",
       "</tr>\n",
       "<tr>\n",
       "  <th>Offer_None</th>    <td>   -0.9729</td> <td>    0.066</td> <td>  -14.733</td> <td> 0.000</td> <td>   -1.102</td> <td>   -0.843</td>\n",
       "</tr>\n",
       "<tr>\n",
       "  <th>Offer_Offer A</th> <td>   -2.9886</td> <td>    0.387</td> <td>   -7.715</td> <td> 0.000</td> <td>   -3.748</td> <td>   -2.229</td>\n",
       "</tr>\n",
       "<tr>\n",
       "  <th>Offer_Offer B</th> <td>   -2.0384</td> <td>    0.201</td> <td>  -10.146</td> <td> 0.000</td> <td>   -2.432</td> <td>   -1.645</td>\n",
       "</tr>\n",
       "<tr>\n",
       "  <th>Offer_Offer C</th> <td>   -1.2040</td> <td>    0.219</td> <td>   -5.487</td> <td> 0.000</td> <td>   -1.634</td> <td>   -0.774</td>\n",
       "</tr>\n",
       "<tr>\n",
       "  <th>Offer_Offer E</th> <td>    0.0877</td> <td>    0.126</td> <td>    0.694</td> <td> 0.488</td> <td>   -0.160</td> <td>    0.335</td>\n",
       "</tr>\n",
       "<tr>\n",
       "  <th>Offer_Offer D</th> <td>   -1.0282</td> <td>    0.166</td> <td>   -6.177</td> <td> 0.000</td> <td>   -1.354</td> <td>   -0.702</td>\n",
       "</tr>\n",
       "</table>"
      ],
      "text/plain": [
       "<class 'statsmodels.iolib.summary.Summary'>\n",
       "\"\"\"\n",
       "                           Logit Regression Results                           \n",
       "==============================================================================\n",
       "Dep. Variable:                  Churn   No. Observations:                 2095\n",
       "Model:                          Logit   Df Residuals:                     2089\n",
       "Method:                           MLE   Df Model:                            5\n",
       "Date:                Mon, 05 Sep 2022   Pseudo R-squ.:                 0.06452\n",
       "Time:                        14:27:42   Log-Likelihood:                -1135.9\n",
       "converged:                       True   LL-Null:                       -1214.2\n",
       "Covariance Type:            nonrobust   LLR p-value:                 5.044e-32\n",
       "=================================================================================\n",
       "                    coef    std err          z      P>|z|      [0.025      0.975]\n",
       "---------------------------------------------------------------------------------\n",
       "Offer_None       -0.9729      0.066    -14.733      0.000      -1.102      -0.843\n",
       "Offer_Offer A    -2.9886      0.387     -7.715      0.000      -3.748      -2.229\n",
       "Offer_Offer B    -2.0384      0.201    -10.146      0.000      -2.432      -1.645\n",
       "Offer_Offer C    -1.2040      0.219     -5.487      0.000      -1.634      -0.774\n",
       "Offer_Offer E     0.0877      0.126      0.694      0.488      -0.160       0.335\n",
       "Offer_Offer D    -1.0282      0.166     -6.177      0.000      -1.354      -0.702\n",
       "=================================================================================\n",
       "\"\"\""
      ]
     },
     "execution_count": 162,
     "metadata": {},
     "output_type": "execute_result"
    }
   ],
   "source": [
    "#quant_df3['intercept'] = 1\n",
    "log_mod3 = sm.Logit(quant_df3['Churn'], quant_df3[['Offer_None','Offer_Offer A','Offer_Offer B',\n",
    "                                                   'Offer_Offer C','Offer_Offer E','Offer_Offer D']]).fit()\n",
    "log_mod3.summary()"
   ]
  },
  {
   "cell_type": "code",
   "execution_count": 191,
   "id": "14e526ae",
   "metadata": {},
   "outputs": [
    {
     "name": "stdout",
     "output_type": "stream",
     "text": [
      "Optimization terminated successfully.\n",
      "         Current function value: 0.542199\n",
      "         Iterations 7\n"
     ]
    },
    {
     "data": {
      "text/html": [
       "<table class=\"simpletable\">\n",
       "<caption>Logit Regression Results</caption>\n",
       "<tr>\n",
       "  <th>Dep. Variable:</th>         <td>Churn</td>      <th>  No. Observations:  </th>  <td>  2095</td>  \n",
       "</tr>\n",
       "<tr>\n",
       "  <th>Model:</th>                 <td>Logit</td>      <th>  Df Residuals:      </th>  <td>  2089</td>  \n",
       "</tr>\n",
       "<tr>\n",
       "  <th>Method:</th>                 <td>MLE</td>       <th>  Df Model:          </th>  <td>     5</td>  \n",
       "</tr>\n",
       "<tr>\n",
       "  <th>Date:</th>            <td>Mon, 05 Sep 2022</td> <th>  Pseudo R-squ.:     </th>  <td>0.06452</td> \n",
       "</tr>\n",
       "<tr>\n",
       "  <th>Time:</th>                <td>14:52:41</td>     <th>  Log-Likelihood:    </th> <td> -1135.9</td> \n",
       "</tr>\n",
       "<tr>\n",
       "  <th>converged:</th>             <td>True</td>       <th>  LL-Null:           </th> <td> -1214.2</td> \n",
       "</tr>\n",
       "<tr>\n",
       "  <th>Covariance Type:</th>     <td>nonrobust</td>    <th>  LLR p-value:       </th> <td>5.044e-32</td>\n",
       "</tr>\n",
       "</table>\n",
       "<table class=\"simpletable\">\n",
       "<tr>\n",
       "        <td></td>           <th>coef</th>     <th>std err</th>      <th>z</th>      <th>P>|z|</th>  <th>[0.025</th>    <th>0.975]</th>  \n",
       "</tr>\n",
       "<tr>\n",
       "  <th>Offer_None</th>    <td>   -0.9729</td> <td>    0.066</td> <td>  -14.733</td> <td> 0.000</td> <td>   -1.102</td> <td>   -0.843</td>\n",
       "</tr>\n",
       "<tr>\n",
       "  <th>Offer_Offer A</th> <td>   -2.9886</td> <td>    0.387</td> <td>   -7.715</td> <td> 0.000</td> <td>   -3.748</td> <td>   -2.229</td>\n",
       "</tr>\n",
       "<tr>\n",
       "  <th>Offer_Offer B</th> <td>   -2.0384</td> <td>    0.201</td> <td>  -10.146</td> <td> 0.000</td> <td>   -2.432</td> <td>   -1.645</td>\n",
       "</tr>\n",
       "<tr>\n",
       "  <th>Offer_Offer C</th> <td>   -1.2040</td> <td>    0.219</td> <td>   -5.487</td> <td> 0.000</td> <td>   -1.634</td> <td>   -0.774</td>\n",
       "</tr>\n",
       "<tr>\n",
       "  <th>Offer_Offer E</th> <td>    0.0877</td> <td>    0.126</td> <td>    0.694</td> <td> 0.488</td> <td>   -0.160</td> <td>    0.335</td>\n",
       "</tr>\n",
       "<tr>\n",
       "  <th>Offer_Offer D</th> <td>   -1.0282</td> <td>    0.166</td> <td>   -6.177</td> <td> 0.000</td> <td>   -1.354</td> <td>   -0.702</td>\n",
       "</tr>\n",
       "</table>"
      ],
      "text/plain": [
       "<class 'statsmodels.iolib.summary.Summary'>\n",
       "\"\"\"\n",
       "                           Logit Regression Results                           \n",
       "==============================================================================\n",
       "Dep. Variable:                  Churn   No. Observations:                 2095\n",
       "Model:                          Logit   Df Residuals:                     2089\n",
       "Method:                           MLE   Df Model:                            5\n",
       "Date:                Mon, 05 Sep 2022   Pseudo R-squ.:                 0.06452\n",
       "Time:                        14:52:41   Log-Likelihood:                -1135.9\n",
       "converged:                       True   LL-Null:                       -1214.2\n",
       "Covariance Type:            nonrobust   LLR p-value:                 5.044e-32\n",
       "=================================================================================\n",
       "                    coef    std err          z      P>|z|      [0.025      0.975]\n",
       "---------------------------------------------------------------------------------\n",
       "Offer_None       -0.9729      0.066    -14.733      0.000      -1.102      -0.843\n",
       "Offer_Offer A    -2.9886      0.387     -7.715      0.000      -3.748      -2.229\n",
       "Offer_Offer B    -2.0384      0.201    -10.146      0.000      -2.432      -1.645\n",
       "Offer_Offer C    -1.2040      0.219     -5.487      0.000      -1.634      -0.774\n",
       "Offer_Offer E     0.0877      0.126      0.694      0.488      -0.160       0.335\n",
       "Offer_Offer D    -1.0282      0.166     -6.177      0.000      -1.354      -0.702\n",
       "=================================================================================\n",
       "\"\"\""
      ]
     },
     "execution_count": 191,
     "metadata": {},
     "output_type": "execute_result"
    }
   ],
   "source": [
    "#quant_df3['intercept'] = 1\n",
    "log_mod3 = sm.Logit(quant_df3['Churn'], quant_df3[['Offer_None','Offer_Offer A','Offer_Offer B',\n",
    "                                                   'Offer_Offer C','Offer_Offer E','Offer_Offer D']]).fit()\n",
    "log_mod3.summary()\n",
    "\n",
    "# we get the dummy variable trip. Research said to drop intercept \n",
    "# https://www.algosome.com/articles/dummy-variable-trap-regression.html"
   ]
  },
  {
   "cell_type": "code",
   "execution_count": 163,
   "id": "22dec26a",
   "metadata": {},
   "outputs": [
    {
     "data": {
      "text/plain": [
       "[('Offer_Offer A', -2.9886),\n",
       " ('Offer_Offer B', -2.0384),\n",
       " ('Offer_Offer C', -1.204),\n",
       " ('Offer_Offer D', -1.0282),\n",
       " ('Offer_None', -0.9729)]"
      ]
     },
     "execution_count": 163,
     "metadata": {},
     "output_type": "execute_result"
    }
   ],
   "source": [
    "quant_df_main = {}\n",
    "for i in log_mod3.params[:].to_dict().keys():\n",
    "    if log_mod3.pvalues[i] < 0.05:\n",
    "        quant_df_main[i] = log_mod3.params[i].round(4)\n",
    "    else:\n",
    "        continue\n",
    "quant_df_main\n",
    "sorted(quant_df_main.items(), key=lambda x: x[1]) #sorting by highest to lowest value"
   ]
  },
  {
   "cell_type": "code",
   "execution_count": 180,
   "id": "92e28af0",
   "metadata": {},
   "outputs": [
    {
     "name": "stdout",
     "output_type": "stream",
     "text": [
      "Optimization terminated successfully.\n",
      "         Current function value: 0.465441\n",
      "         Iterations 8\n"
     ]
    },
    {
     "data": {
      "text/html": [
       "<table class=\"simpletable\">\n",
       "<caption>Logit Regression Results</caption>\n",
       "<tr>\n",
       "  <th>Dep. Variable:</th>         <td>Churn</td>      <th>  No. Observations:  </th>   <td>  2095</td>  \n",
       "</tr>\n",
       "<tr>\n",
       "  <th>Model:</th>                 <td>Logit</td>      <th>  Df Residuals:      </th>   <td>  2092</td>  \n",
       "</tr>\n",
       "<tr>\n",
       "  <th>Method:</th>                 <td>MLE</td>       <th>  Df Model:          </th>   <td>     2</td>  \n",
       "</tr>\n",
       "<tr>\n",
       "  <th>Date:</th>            <td>Mon, 05 Sep 2022</td> <th>  Pseudo R-squ.:     </th>   <td>0.1970</td>  \n",
       "</tr>\n",
       "<tr>\n",
       "  <th>Time:</th>                <td>14:39:14</td>     <th>  Log-Likelihood:    </th>  <td> -975.10</td> \n",
       "</tr>\n",
       "<tr>\n",
       "  <th>converged:</th>             <td>True</td>       <th>  LL-Null:           </th>  <td> -1214.2</td> \n",
       "</tr>\n",
       "<tr>\n",
       "  <th>Covariance Type:</th>     <td>nonrobust</td>    <th>  LLR p-value:       </th> <td>1.377e-104</td>\n",
       "</tr>\n",
       "</table>\n",
       "<table class=\"simpletable\">\n",
       "<tr>\n",
       "             <td></td>                <th>coef</th>     <th>std err</th>      <th>z</th>      <th>P>|z|</th>  <th>[0.025</th>    <th>0.975]</th>  \n",
       "</tr>\n",
       "<tr>\n",
       "  <th>Contract_Month-to-Month</th> <td>   -0.2088</td> <td>    0.061</td> <td>   -3.437</td> <td> 0.001</td> <td>   -0.328</td> <td>   -0.090</td>\n",
       "</tr>\n",
       "<tr>\n",
       "  <th>Contract_One Year</th>       <td>   -1.9148</td> <td>    0.143</td> <td>  -13.377</td> <td> 0.000</td> <td>   -2.195</td> <td>   -1.634</td>\n",
       "</tr>\n",
       "<tr>\n",
       "  <th>Contract_Two Year</th>       <td>   -3.9157</td> <td>    0.305</td> <td>  -12.859</td> <td> 0.000</td> <td>   -4.512</td> <td>   -3.319</td>\n",
       "</tr>\n",
       "</table>"
      ],
      "text/plain": [
       "<class 'statsmodels.iolib.summary.Summary'>\n",
       "\"\"\"\n",
       "                           Logit Regression Results                           \n",
       "==============================================================================\n",
       "Dep. Variable:                  Churn   No. Observations:                 2095\n",
       "Model:                          Logit   Df Residuals:                     2092\n",
       "Method:                           MLE   Df Model:                            2\n",
       "Date:                Mon, 05 Sep 2022   Pseudo R-squ.:                  0.1970\n",
       "Time:                        14:39:14   Log-Likelihood:                -975.10\n",
       "converged:                       True   LL-Null:                       -1214.2\n",
       "Covariance Type:            nonrobust   LLR p-value:                1.377e-104\n",
       "===========================================================================================\n",
       "                              coef    std err          z      P>|z|      [0.025      0.975]\n",
       "-------------------------------------------------------------------------------------------\n",
       "Contract_Month-to-Month    -0.2088      0.061     -3.437      0.001      -0.328      -0.090\n",
       "Contract_One Year          -1.9148      0.143    -13.377      0.000      -2.195      -1.634\n",
       "Contract_Two Year          -3.9157      0.305    -12.859      0.000      -4.512      -3.319\n",
       "===========================================================================================\n",
       "\"\"\""
      ]
     },
     "execution_count": 180,
     "metadata": {},
     "output_type": "execute_result"
    }
   ],
   "source": [
    "quant_df3['intercept'] = 1\n",
    "log_mod3 = sm.Logit(quant_df3['Churn'], quant_df3[['Contract_Month-to-Month',\n",
    "                                                   'Contract_One Year','Contract_Two Year']]).fit()\n",
    "log_mod3.summary()"
   ]
  },
  {
   "cell_type": "code",
   "execution_count": 165,
   "id": "337373ea",
   "metadata": {},
   "outputs": [
    {
     "name": "stdout",
     "output_type": "stream",
     "text": [
      "Optimization terminated successfully.\n",
      "         Current function value: 0.554132\n",
      "         Iterations 6\n"
     ]
    },
    {
     "data": {
      "text/html": [
       "<table class=\"simpletable\">\n",
       "<caption>Logit Regression Results</caption>\n",
       "<tr>\n",
       "  <th>Dep. Variable:</th>         <td>Churn</td>      <th>  No. Observations:  </th>  <td>  2095</td>  \n",
       "</tr>\n",
       "<tr>\n",
       "  <th>Model:</th>                 <td>Logit</td>      <th>  Df Residuals:      </th>  <td>  2092</td>  \n",
       "</tr>\n",
       "<tr>\n",
       "  <th>Method:</th>                 <td>MLE</td>       <th>  Df Model:          </th>  <td>     2</td>  \n",
       "</tr>\n",
       "<tr>\n",
       "  <th>Date:</th>            <td>Mon, 05 Sep 2022</td> <th>  Pseudo R-squ.:     </th>  <td>0.04393</td> \n",
       "</tr>\n",
       "<tr>\n",
       "  <th>Time:</th>                <td>14:27:42</td>     <th>  Log-Likelihood:    </th> <td> -1160.9</td> \n",
       "</tr>\n",
       "<tr>\n",
       "  <th>converged:</th>             <td>True</td>       <th>  LL-Null:           </th> <td> -1214.2</td> \n",
       "</tr>\n",
       "<tr>\n",
       "  <th>Covariance Type:</th>     <td>nonrobust</td>    <th>  LLR p-value:       </th> <td>6.826e-24</td>\n",
       "</tr>\n",
       "</table>\n",
       "<table class=\"simpletable\">\n",
       "<tr>\n",
       "                <td></td>                   <th>coef</th>     <th>std err</th>      <th>z</th>      <th>P>|z|</th>  <th>[0.025</th>    <th>0.975]</th>  \n",
       "</tr>\n",
       "<tr>\n",
       "  <th>PaymentMethod_Bank Withdrawal</th> <td>   -0.6791</td> <td>    0.062</td> <td>  -10.980</td> <td> 0.000</td> <td>   -0.800</td> <td>   -0.558</td>\n",
       "</tr>\n",
       "<tr>\n",
       "  <th>PaymentMethod_Credit Card</th>     <td>   -1.7474</td> <td>    0.098</td> <td>  -17.885</td> <td> 0.000</td> <td>   -1.939</td> <td>   -1.556</td>\n",
       "</tr>\n",
       "<tr>\n",
       "  <th>PaymentMethod_Mailed Check</th>    <td>   -0.2754</td> <td>    0.207</td> <td>   -1.330</td> <td> 0.184</td> <td>   -0.681</td> <td>    0.131</td>\n",
       "</tr>\n",
       "</table>"
      ],
      "text/plain": [
       "<class 'statsmodels.iolib.summary.Summary'>\n",
       "\"\"\"\n",
       "                           Logit Regression Results                           \n",
       "==============================================================================\n",
       "Dep. Variable:                  Churn   No. Observations:                 2095\n",
       "Model:                          Logit   Df Residuals:                     2092\n",
       "Method:                           MLE   Df Model:                            2\n",
       "Date:                Mon, 05 Sep 2022   Pseudo R-squ.:                 0.04393\n",
       "Time:                        14:27:42   Log-Likelihood:                -1160.9\n",
       "converged:                       True   LL-Null:                       -1214.2\n",
       "Covariance Type:            nonrobust   LLR p-value:                 6.826e-24\n",
       "=================================================================================================\n",
       "                                    coef    std err          z      P>|z|      [0.025      0.975]\n",
       "-------------------------------------------------------------------------------------------------\n",
       "PaymentMethod_Bank Withdrawal    -0.6791      0.062    -10.980      0.000      -0.800      -0.558\n",
       "PaymentMethod_Credit Card        -1.7474      0.098    -17.885      0.000      -1.939      -1.556\n",
       "PaymentMethod_Mailed Check       -0.2754      0.207     -1.330      0.184      -0.681       0.131\n",
       "=================================================================================================\n",
       "\"\"\""
      ]
     },
     "execution_count": 165,
     "metadata": {},
     "output_type": "execute_result"
    }
   ],
   "source": [
    "quant_df3['intercept'] = 1\n",
    "log_mod3 = sm.Logit(quant_df3['Churn'], quant_df3[['PaymentMethod_Bank Withdrawal','PaymentMethod_Credit Card',\n",
    "                                                  'PaymentMethod_Mailed Check']]).fit()\n",
    "log_mod3.summary()"
   ]
  },
  {
   "cell_type": "code",
   "execution_count": null,
   "id": "9ef83496",
   "metadata": {},
   "outputs": [],
   "source": []
  },
  {
   "cell_type": "code",
   "execution_count": 170,
   "id": "703c3cba",
   "metadata": {},
   "outputs": [
    {
     "name": "stdout",
     "output_type": "stream",
     "text": [
      "Optimization terminated successfully.\n",
      "         Current function value: 0.536571\n",
      "         Iterations 6\n"
     ]
    },
    {
     "data": {
      "text/html": [
       "<table class=\"simpletable\">\n",
       "<caption>Logit Regression Results</caption>\n",
       "<tr>\n",
       "  <th>Dep. Variable:</th>         <td>Churn</td>      <th>  No. Observations:  </th>  <td>  2095</td>  \n",
       "</tr>\n",
       "<tr>\n",
       "  <th>Model:</th>                 <td>Logit</td>      <th>  Df Residuals:      </th>  <td>  2091</td>  \n",
       "</tr>\n",
       "<tr>\n",
       "  <th>Method:</th>                 <td>MLE</td>       <th>  Df Model:          </th>  <td>     3</td>  \n",
       "</tr>\n",
       "<tr>\n",
       "  <th>Date:</th>            <td>Mon, 05 Sep 2022</td> <th>  Pseudo R-squ.:     </th>  <td>0.07423</td> \n",
       "</tr>\n",
       "<tr>\n",
       "  <th>Time:</th>                <td>14:37:31</td>     <th>  Log-Likelihood:    </th> <td> -1124.1</td> \n",
       "</tr>\n",
       "<tr>\n",
       "  <th>converged:</th>             <td>True</td>       <th>  LL-Null:           </th> <td> -1214.2</td> \n",
       "</tr>\n",
       "<tr>\n",
       "  <th>Covariance Type:</th>     <td>nonrobust</td>    <th>  LLR p-value:       </th> <td>7.736e-39</td>\n",
       "</tr>\n",
       "</table>\n",
       "<table class=\"simpletable\">\n",
       "<tr>\n",
       "              <td></td>                <th>coef</th>     <th>std err</th>      <th>z</th>      <th>P>|z|</th>  <th>[0.025</th>    <th>0.975]</th>  \n",
       "</tr>\n",
       "<tr>\n",
       "  <th>InternetType_Cable</th>       <td>   -1.2397</td> <td>    0.153</td> <td>   -8.096</td> <td> 0.000</td> <td>   -1.540</td> <td>   -0.940</td>\n",
       "</tr>\n",
       "<tr>\n",
       "  <th>InternetType_DSL</th>         <td>   -1.4655</td> <td>    0.118</td> <td>  -12.391</td> <td> 0.000</td> <td>   -1.697</td> <td>   -1.234</td>\n",
       "</tr>\n",
       "<tr>\n",
       "  <th>InternetType_Fiber Optic</th> <td>   -0.4064</td> <td>    0.067</td> <td>   -6.080</td> <td> 0.000</td> <td>   -0.537</td> <td>   -0.275</td>\n",
       "</tr>\n",
       "<tr>\n",
       "  <th>InternetType_Unknown</th>     <td>   -2.2687</td> <td>    0.162</td> <td>  -13.997</td> <td> 0.000</td> <td>   -2.586</td> <td>   -1.951</td>\n",
       "</tr>\n",
       "</table>"
      ],
      "text/plain": [
       "<class 'statsmodels.iolib.summary.Summary'>\n",
       "\"\"\"\n",
       "                           Logit Regression Results                           \n",
       "==============================================================================\n",
       "Dep. Variable:                  Churn   No. Observations:                 2095\n",
       "Model:                          Logit   Df Residuals:                     2091\n",
       "Method:                           MLE   Df Model:                            3\n",
       "Date:                Mon, 05 Sep 2022   Pseudo R-squ.:                 0.07423\n",
       "Time:                        14:37:31   Log-Likelihood:                -1124.1\n",
       "converged:                       True   LL-Null:                       -1214.2\n",
       "Covariance Type:            nonrobust   LLR p-value:                 7.736e-39\n",
       "============================================================================================\n",
       "                               coef    std err          z      P>|z|      [0.025      0.975]\n",
       "--------------------------------------------------------------------------------------------\n",
       "InternetType_Cable          -1.2397      0.153     -8.096      0.000      -1.540      -0.940\n",
       "InternetType_DSL            -1.4655      0.118    -12.391      0.000      -1.697      -1.234\n",
       "InternetType_Fiber Optic    -0.4064      0.067     -6.080      0.000      -0.537      -0.275\n",
       "InternetType_Unknown        -2.2687      0.162    -13.997      0.000      -2.586      -1.951\n",
       "============================================================================================\n",
       "\"\"\""
      ]
     },
     "execution_count": 170,
     "metadata": {},
     "output_type": "execute_result"
    }
   ],
   "source": [
    "quant_df3['intercept'] = 1\n",
    "log_mod3 = sm.Logit(quant_df1['Churn'], quant_df3[['InternetType_Cable','InternetType_DSL',\n",
    "                                                  'InternetType_Fiber Optic','InternetType_Unknown']]).fit()\n",
    "log_mod3.summary()"
   ]
  },
  {
   "cell_type": "markdown",
   "id": "fc3249f5",
   "metadata": {},
   "source": [
    "https://quantifyinghealth.com/interpret-logistic-regression-coefficients/"
   ]
  },
  {
   "cell_type": "code",
   "execution_count": null,
   "id": "1cb1f027",
   "metadata": {},
   "outputs": [],
   "source": []
  },
  {
   "cell_type": "code",
   "execution_count": null,
   "id": "d6c6f43b",
   "metadata": {},
   "outputs": [],
   "source": []
  }
 ],
 "metadata": {
  "kernelspec": {
   "display_name": "Python 3 (ipykernel)",
   "language": "python",
   "name": "python3"
  },
  "language_info": {
   "codemirror_mode": {
    "name": "ipython",
    "version": 3
   },
   "file_extension": ".py",
   "mimetype": "text/x-python",
   "name": "python",
   "nbconvert_exporter": "python",
   "pygments_lexer": "ipython3",
   "version": "3.9.7"
  }
 },
 "nbformat": 4,
 "nbformat_minor": 5
}
